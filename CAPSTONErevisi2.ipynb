{
  "nbformat": 4,
  "nbformat_minor": 0,
  "metadata": {
    "colab": {
      "provenance": [],
      "authorship_tag": "ABX9TyMWMPEszKoPikvnP/Vyhq/7",
      "include_colab_link": true
    },
    "kernelspec": {
      "name": "python3",
      "display_name": "Python 3"
    },
    "language_info": {
      "name": "python"
    }
  },
  "cells": [
    {
      "cell_type": "markdown",
      "metadata": {
        "id": "view-in-github",
        "colab_type": "text"
      },
      "source": [
        "<a href=\"https://colab.research.google.com/github/ummijumria1101/FinalProjectTopicsAntenna-TA/blob/main/CAPSTONErevisi2.ipynb\" target=\"_parent\"><img src=\"https://colab.research.google.com/assets/colab-badge.svg\" alt=\"Open In Colab\"/></a>"
      ]
    },
    {
      "cell_type": "markdown",
      "source": [
        "**Mengimport package yangn dibutuhkan**"
      ],
      "metadata": {
        "id": "ImIhWRCC5kvg"
      }
    },
    {
      "cell_type": "code",
      "source": [
        "import pandas as pd\n",
        "import math as m\n",
        "import matplotlib.pyplot as plt\n",
        "import numpy as np"
      ],
      "metadata": {
        "id": "FZoY69WfWeD3"
      },
      "execution_count": 30,
      "outputs": []
    },
    {
      "cell_type": "markdown",
      "source": [
        "**Mengambil data csv dari google drive**"
      ],
      "metadata": {
        "id": "-PUAqEee5Zuu"
      }
    },
    {
      "cell_type": "code",
      "execution_count": 31,
      "metadata": {
        "colab": {
          "base_uri": "https://localhost:8080/"
        },
        "id": "bluZKCLaWKMR",
        "outputId": "8a8b95b0-5ec1-4786-de9d-91ed5cceda46"
      },
      "outputs": [
        {
          "output_type": "stream",
          "name": "stdout",
          "text": [
            "Drive already mounted at /content/drive/; to attempt to forcibly remount, call drive.mount(\"/content/drive/\", force_remount=True).\n"
          ]
        }
      ],
      "source": [
        "from google.colab import drive\n",
        "drive.mount('/content/drive/')"
      ]
    },
    {
      "cell_type": "code",
      "source": [
        "data = pd.read_csv('/content/drive/MyDrive/TA/S11.CSV')\n",
        "data"
      ],
      "metadata": {
        "colab": {
          "base_uri": "https://localhost:8080/",
          "height": 424
        },
        "id": "jw52DNlMazCe",
        "outputId": "f9b5c270-cc2f-47d7-8f26-03e56887e4f7"
      },
      "execution_count": 32,
      "outputs": [
        {
          "output_type": "execute_result",
          "data": {
            "text/plain": [
              "       !Frequency        S11   Formatted Data\n",
              "0    3.000000e+05 -44.622568              0.0\n",
              "1    4.029850e+07 -30.537661              0.0\n",
              "2    8.029700e+07 -25.814351              0.0\n",
              "3    1.202955e+08 -35.067259              0.0\n",
              "4    1.602940e+08 -20.239823              0.0\n",
              "..            ...        ...              ...\n",
              "196  7.840006e+09  -3.795301              0.0\n",
              "197  7.880004e+09  -3.377557              0.0\n",
              "198  7.920003e+09  -2.929777              0.0\n",
              "199  7.960002e+09  -2.581293              0.0\n",
              "200  8.000000e+09  -2.245275              0.0\n",
              "\n",
              "[201 rows x 3 columns]"
            ],
            "text/html": [
              "\n",
              "  <div id=\"df-3d0e19c9-9cc1-4ee2-8d6f-25bf0978cd40\">\n",
              "    <div class=\"colab-df-container\">\n",
              "      <div>\n",
              "<style scoped>\n",
              "    .dataframe tbody tr th:only-of-type {\n",
              "        vertical-align: middle;\n",
              "    }\n",
              "\n",
              "    .dataframe tbody tr th {\n",
              "        vertical-align: top;\n",
              "    }\n",
              "\n",
              "    .dataframe thead th {\n",
              "        text-align: right;\n",
              "    }\n",
              "</style>\n",
              "<table border=\"1\" class=\"dataframe\">\n",
              "  <thead>\n",
              "    <tr style=\"text-align: right;\">\n",
              "      <th></th>\n",
              "      <th>!Frequency</th>\n",
              "      <th>S11</th>\n",
              "      <th>Formatted Data</th>\n",
              "    </tr>\n",
              "  </thead>\n",
              "  <tbody>\n",
              "    <tr>\n",
              "      <th>0</th>\n",
              "      <td>3.000000e+05</td>\n",
              "      <td>-44.622568</td>\n",
              "      <td>0.0</td>\n",
              "    </tr>\n",
              "    <tr>\n",
              "      <th>1</th>\n",
              "      <td>4.029850e+07</td>\n",
              "      <td>-30.537661</td>\n",
              "      <td>0.0</td>\n",
              "    </tr>\n",
              "    <tr>\n",
              "      <th>2</th>\n",
              "      <td>8.029700e+07</td>\n",
              "      <td>-25.814351</td>\n",
              "      <td>0.0</td>\n",
              "    </tr>\n",
              "    <tr>\n",
              "      <th>3</th>\n",
              "      <td>1.202955e+08</td>\n",
              "      <td>-35.067259</td>\n",
              "      <td>0.0</td>\n",
              "    </tr>\n",
              "    <tr>\n",
              "      <th>4</th>\n",
              "      <td>1.602940e+08</td>\n",
              "      <td>-20.239823</td>\n",
              "      <td>0.0</td>\n",
              "    </tr>\n",
              "    <tr>\n",
              "      <th>...</th>\n",
              "      <td>...</td>\n",
              "      <td>...</td>\n",
              "      <td>...</td>\n",
              "    </tr>\n",
              "    <tr>\n",
              "      <th>196</th>\n",
              "      <td>7.840006e+09</td>\n",
              "      <td>-3.795301</td>\n",
              "      <td>0.0</td>\n",
              "    </tr>\n",
              "    <tr>\n",
              "      <th>197</th>\n",
              "      <td>7.880004e+09</td>\n",
              "      <td>-3.377557</td>\n",
              "      <td>0.0</td>\n",
              "    </tr>\n",
              "    <tr>\n",
              "      <th>198</th>\n",
              "      <td>7.920003e+09</td>\n",
              "      <td>-2.929777</td>\n",
              "      <td>0.0</td>\n",
              "    </tr>\n",
              "    <tr>\n",
              "      <th>199</th>\n",
              "      <td>7.960002e+09</td>\n",
              "      <td>-2.581293</td>\n",
              "      <td>0.0</td>\n",
              "    </tr>\n",
              "    <tr>\n",
              "      <th>200</th>\n",
              "      <td>8.000000e+09</td>\n",
              "      <td>-2.245275</td>\n",
              "      <td>0.0</td>\n",
              "    </tr>\n",
              "  </tbody>\n",
              "</table>\n",
              "<p>201 rows × 3 columns</p>\n",
              "</div>\n",
              "      <button class=\"colab-df-convert\" onclick=\"convertToInteractive('df-3d0e19c9-9cc1-4ee2-8d6f-25bf0978cd40')\"\n",
              "              title=\"Convert this dataframe to an interactive table.\"\n",
              "              style=\"display:none;\">\n",
              "        \n",
              "  <svg xmlns=\"http://www.w3.org/2000/svg\" height=\"24px\"viewBox=\"0 0 24 24\"\n",
              "       width=\"24px\">\n",
              "    <path d=\"M0 0h24v24H0V0z\" fill=\"none\"/>\n",
              "    <path d=\"M18.56 5.44l.94 2.06.94-2.06 2.06-.94-2.06-.94-.94-2.06-.94 2.06-2.06.94zm-11 1L8.5 8.5l.94-2.06 2.06-.94-2.06-.94L8.5 2.5l-.94 2.06-2.06.94zm10 10l.94 2.06.94-2.06 2.06-.94-2.06-.94-.94-2.06-.94 2.06-2.06.94z\"/><path d=\"M17.41 7.96l-1.37-1.37c-.4-.4-.92-.59-1.43-.59-.52 0-1.04.2-1.43.59L10.3 9.45l-7.72 7.72c-.78.78-.78 2.05 0 2.83L4 21.41c.39.39.9.59 1.41.59.51 0 1.02-.2 1.41-.59l7.78-7.78 2.81-2.81c.8-.78.8-2.07 0-2.86zM5.41 20L4 18.59l7.72-7.72 1.47 1.35L5.41 20z\"/>\n",
              "  </svg>\n",
              "      </button>\n",
              "      \n",
              "  <style>\n",
              "    .colab-df-container {\n",
              "      display:flex;\n",
              "      flex-wrap:wrap;\n",
              "      gap: 12px;\n",
              "    }\n",
              "\n",
              "    .colab-df-convert {\n",
              "      background-color: #E8F0FE;\n",
              "      border: none;\n",
              "      border-radius: 50%;\n",
              "      cursor: pointer;\n",
              "      display: none;\n",
              "      fill: #1967D2;\n",
              "      height: 32px;\n",
              "      padding: 0 0 0 0;\n",
              "      width: 32px;\n",
              "    }\n",
              "\n",
              "    .colab-df-convert:hover {\n",
              "      background-color: #E2EBFA;\n",
              "      box-shadow: 0px 1px 2px rgba(60, 64, 67, 0.3), 0px 1px 3px 1px rgba(60, 64, 67, 0.15);\n",
              "      fill: #174EA6;\n",
              "    }\n",
              "\n",
              "    [theme=dark] .colab-df-convert {\n",
              "      background-color: #3B4455;\n",
              "      fill: #D2E3FC;\n",
              "    }\n",
              "\n",
              "    [theme=dark] .colab-df-convert:hover {\n",
              "      background-color: #434B5C;\n",
              "      box-shadow: 0px 1px 3px 1px rgba(0, 0, 0, 0.15);\n",
              "      filter: drop-shadow(0px 1px 2px rgba(0, 0, 0, 0.3));\n",
              "      fill: #FFFFFF;\n",
              "    }\n",
              "  </style>\n",
              "\n",
              "      <script>\n",
              "        const buttonEl =\n",
              "          document.querySelector('#df-3d0e19c9-9cc1-4ee2-8d6f-25bf0978cd40 button.colab-df-convert');\n",
              "        buttonEl.style.display =\n",
              "          google.colab.kernel.accessAllowed ? 'block' : 'none';\n",
              "\n",
              "        async function convertToInteractive(key) {\n",
              "          const element = document.querySelector('#df-3d0e19c9-9cc1-4ee2-8d6f-25bf0978cd40');\n",
              "          const dataTable =\n",
              "            await google.colab.kernel.invokeFunction('convertToInteractive',\n",
              "                                                     [key], {});\n",
              "          if (!dataTable) return;\n",
              "\n",
              "          const docLinkHtml = 'Like what you see? Visit the ' +\n",
              "            '<a target=\"_blank\" href=https://colab.research.google.com/notebooks/data_table.ipynb>data table notebook</a>'\n",
              "            + ' to learn more about interactive tables.';\n",
              "          element.innerHTML = '';\n",
              "          dataTable['output_type'] = 'display_data';\n",
              "          await google.colab.output.renderOutput(dataTable, element);\n",
              "          const docLink = document.createElement('div');\n",
              "          docLink.innerHTML = docLinkHtml;\n",
              "          element.appendChild(docLink);\n",
              "        }\n",
              "      </script>\n",
              "    </div>\n",
              "  </div>\n",
              "  "
            ]
          },
          "metadata": {},
          "execution_count": 32
        }
      ]
    },
    {
      "cell_type": "code",
      "source": [
        "data.rename (\n",
        "    columns=({'!Frequency' : 'frekuensi', ' S11' : 'S11'}),\n",
        "    inplace=True\n",
        ")"
      ],
      "metadata": {
        "id": "zXMt1txQF6Ck"
      },
      "execution_count": 56,
      "outputs": []
    },
    {
      "cell_type": "code",
      "source": [
        "data"
      ],
      "metadata": {
        "colab": {
          "base_uri": "https://localhost:8080/",
          "height": 424
        },
        "id": "4-p3ZdoyGrbs",
        "outputId": "a8216ac1-bdd6-4d49-eb03-f73a1b283132"
      },
      "execution_count": 57,
      "outputs": [
        {
          "output_type": "execute_result",
          "data": {
            "text/plain": [
              "        frekuensi        S11   Formatted Data\n",
              "0    3.000000e+05 -44.622568              0.0\n",
              "1    4.029850e+07 -30.537661              0.0\n",
              "2    8.029700e+07 -25.814351              0.0\n",
              "3    1.202955e+08 -35.067259              0.0\n",
              "4    1.602940e+08 -20.239823              0.0\n",
              "..            ...        ...              ...\n",
              "196  7.840006e+09  -3.795301              0.0\n",
              "197  7.880004e+09  -3.377557              0.0\n",
              "198  7.920003e+09  -2.929777              0.0\n",
              "199  7.960002e+09  -2.581293              0.0\n",
              "200  8.000000e+09  -2.245275              0.0\n",
              "\n",
              "[201 rows x 3 columns]"
            ],
            "text/html": [
              "\n",
              "  <div id=\"df-2a9e7b6d-cc87-4521-b79a-b2f1f026f48d\">\n",
              "    <div class=\"colab-df-container\">\n",
              "      <div>\n",
              "<style scoped>\n",
              "    .dataframe tbody tr th:only-of-type {\n",
              "        vertical-align: middle;\n",
              "    }\n",
              "\n",
              "    .dataframe tbody tr th {\n",
              "        vertical-align: top;\n",
              "    }\n",
              "\n",
              "    .dataframe thead th {\n",
              "        text-align: right;\n",
              "    }\n",
              "</style>\n",
              "<table border=\"1\" class=\"dataframe\">\n",
              "  <thead>\n",
              "    <tr style=\"text-align: right;\">\n",
              "      <th></th>\n",
              "      <th>frekuensi</th>\n",
              "      <th>S11</th>\n",
              "      <th>Formatted Data</th>\n",
              "    </tr>\n",
              "  </thead>\n",
              "  <tbody>\n",
              "    <tr>\n",
              "      <th>0</th>\n",
              "      <td>3.000000e+05</td>\n",
              "      <td>-44.622568</td>\n",
              "      <td>0.0</td>\n",
              "    </tr>\n",
              "    <tr>\n",
              "      <th>1</th>\n",
              "      <td>4.029850e+07</td>\n",
              "      <td>-30.537661</td>\n",
              "      <td>0.0</td>\n",
              "    </tr>\n",
              "    <tr>\n",
              "      <th>2</th>\n",
              "      <td>8.029700e+07</td>\n",
              "      <td>-25.814351</td>\n",
              "      <td>0.0</td>\n",
              "    </tr>\n",
              "    <tr>\n",
              "      <th>3</th>\n",
              "      <td>1.202955e+08</td>\n",
              "      <td>-35.067259</td>\n",
              "      <td>0.0</td>\n",
              "    </tr>\n",
              "    <tr>\n",
              "      <th>4</th>\n",
              "      <td>1.602940e+08</td>\n",
              "      <td>-20.239823</td>\n",
              "      <td>0.0</td>\n",
              "    </tr>\n",
              "    <tr>\n",
              "      <th>...</th>\n",
              "      <td>...</td>\n",
              "      <td>...</td>\n",
              "      <td>...</td>\n",
              "    </tr>\n",
              "    <tr>\n",
              "      <th>196</th>\n",
              "      <td>7.840006e+09</td>\n",
              "      <td>-3.795301</td>\n",
              "      <td>0.0</td>\n",
              "    </tr>\n",
              "    <tr>\n",
              "      <th>197</th>\n",
              "      <td>7.880004e+09</td>\n",
              "      <td>-3.377557</td>\n",
              "      <td>0.0</td>\n",
              "    </tr>\n",
              "    <tr>\n",
              "      <th>198</th>\n",
              "      <td>7.920003e+09</td>\n",
              "      <td>-2.929777</td>\n",
              "      <td>0.0</td>\n",
              "    </tr>\n",
              "    <tr>\n",
              "      <th>199</th>\n",
              "      <td>7.960002e+09</td>\n",
              "      <td>-2.581293</td>\n",
              "      <td>0.0</td>\n",
              "    </tr>\n",
              "    <tr>\n",
              "      <th>200</th>\n",
              "      <td>8.000000e+09</td>\n",
              "      <td>-2.245275</td>\n",
              "      <td>0.0</td>\n",
              "    </tr>\n",
              "  </tbody>\n",
              "</table>\n",
              "<p>201 rows × 3 columns</p>\n",
              "</div>\n",
              "      <button class=\"colab-df-convert\" onclick=\"convertToInteractive('df-2a9e7b6d-cc87-4521-b79a-b2f1f026f48d')\"\n",
              "              title=\"Convert this dataframe to an interactive table.\"\n",
              "              style=\"display:none;\">\n",
              "        \n",
              "  <svg xmlns=\"http://www.w3.org/2000/svg\" height=\"24px\"viewBox=\"0 0 24 24\"\n",
              "       width=\"24px\">\n",
              "    <path d=\"M0 0h24v24H0V0z\" fill=\"none\"/>\n",
              "    <path d=\"M18.56 5.44l.94 2.06.94-2.06 2.06-.94-2.06-.94-.94-2.06-.94 2.06-2.06.94zm-11 1L8.5 8.5l.94-2.06 2.06-.94-2.06-.94L8.5 2.5l-.94 2.06-2.06.94zm10 10l.94 2.06.94-2.06 2.06-.94-2.06-.94-.94-2.06-.94 2.06-2.06.94z\"/><path d=\"M17.41 7.96l-1.37-1.37c-.4-.4-.92-.59-1.43-.59-.52 0-1.04.2-1.43.59L10.3 9.45l-7.72 7.72c-.78.78-.78 2.05 0 2.83L4 21.41c.39.39.9.59 1.41.59.51 0 1.02-.2 1.41-.59l7.78-7.78 2.81-2.81c.8-.78.8-2.07 0-2.86zM5.41 20L4 18.59l7.72-7.72 1.47 1.35L5.41 20z\"/>\n",
              "  </svg>\n",
              "      </button>\n",
              "      \n",
              "  <style>\n",
              "    .colab-df-container {\n",
              "      display:flex;\n",
              "      flex-wrap:wrap;\n",
              "      gap: 12px;\n",
              "    }\n",
              "\n",
              "    .colab-df-convert {\n",
              "      background-color: #E8F0FE;\n",
              "      border: none;\n",
              "      border-radius: 50%;\n",
              "      cursor: pointer;\n",
              "      display: none;\n",
              "      fill: #1967D2;\n",
              "      height: 32px;\n",
              "      padding: 0 0 0 0;\n",
              "      width: 32px;\n",
              "    }\n",
              "\n",
              "    .colab-df-convert:hover {\n",
              "      background-color: #E2EBFA;\n",
              "      box-shadow: 0px 1px 2px rgba(60, 64, 67, 0.3), 0px 1px 3px 1px rgba(60, 64, 67, 0.15);\n",
              "      fill: #174EA6;\n",
              "    }\n",
              "\n",
              "    [theme=dark] .colab-df-convert {\n",
              "      background-color: #3B4455;\n",
              "      fill: #D2E3FC;\n",
              "    }\n",
              "\n",
              "    [theme=dark] .colab-df-convert:hover {\n",
              "      background-color: #434B5C;\n",
              "      box-shadow: 0px 1px 3px 1px rgba(0, 0, 0, 0.15);\n",
              "      filter: drop-shadow(0px 1px 2px rgba(0, 0, 0, 0.3));\n",
              "      fill: #FFFFFF;\n",
              "    }\n",
              "  </style>\n",
              "\n",
              "      <script>\n",
              "        const buttonEl =\n",
              "          document.querySelector('#df-2a9e7b6d-cc87-4521-b79a-b2f1f026f48d button.colab-df-convert');\n",
              "        buttonEl.style.display =\n",
              "          google.colab.kernel.accessAllowed ? 'block' : 'none';\n",
              "\n",
              "        async function convertToInteractive(key) {\n",
              "          const element = document.querySelector('#df-2a9e7b6d-cc87-4521-b79a-b2f1f026f48d');\n",
              "          const dataTable =\n",
              "            await google.colab.kernel.invokeFunction('convertToInteractive',\n",
              "                                                     [key], {});\n",
              "          if (!dataTable) return;\n",
              "\n",
              "          const docLinkHtml = 'Like what you see? Visit the ' +\n",
              "            '<a target=\"_blank\" href=https://colab.research.google.com/notebooks/data_table.ipynb>data table notebook</a>'\n",
              "            + ' to learn more about interactive tables.';\n",
              "          element.innerHTML = '';\n",
              "          dataTable['output_type'] = 'display_data';\n",
              "          await google.colab.output.renderOutput(dataTable, element);\n",
              "          const docLink = document.createElement('div');\n",
              "          docLink.innerHTML = docLinkHtml;\n",
              "          element.appendChild(docLink);\n",
              "        }\n",
              "      </script>\n",
              "    </div>\n",
              "  </div>\n",
              "  "
            ]
          },
          "metadata": {},
          "execution_count": 57
        }
      ]
    },
    {
      "cell_type": "code",
      "source": [
        "#membaca kolom dari dataframe\n",
        "data.columns"
      ],
      "metadata": {
        "colab": {
          "base_uri": "https://localhost:8080/"
        },
        "id": "TOu5vav9HMBF",
        "outputId": "3a4f00ab-73af-4388-cfdd-01a162a8da2e"
      },
      "execution_count": 58,
      "outputs": [
        {
          "output_type": "execute_result",
          "data": {
            "text/plain": [
              "Index(['frekuensi', 'S11', ' Formatted Data'], dtype='object')"
            ]
          },
          "metadata": {},
          "execution_count": 58
        }
      ]
    },
    {
      "cell_type": "code",
      "source": [
        "data2 = pd.read_csv('/content/drive/MyDrive/TA/S21.CSV')\n",
        "data2"
      ],
      "metadata": {
        "colab": {
          "base_uri": "https://localhost:8080/",
          "height": 424
        },
        "id": "QsCGIvtGErMm",
        "outputId": "30583d67-432d-4d29-8b95-57a58fb81087"
      },
      "execution_count": 59,
      "outputs": [
        {
          "output_type": "execute_result",
          "data": {
            "text/plain": [
              "       !Frequency        S21   Formatted Data\n",
              "0    3.000000e+05  -0.078049              0.0\n",
              "1    4.029850e+07  -0.153413              0.0\n",
              "2    8.029700e+07  -0.223059              0.0\n",
              "3    1.202955e+08  -0.271866              0.0\n",
              "4    1.602940e+08  -0.361810              0.0\n",
              "..            ...        ...              ...\n",
              "196  7.840006e+09 -16.031534              0.0\n",
              "197  7.880004e+09 -16.607660              0.0\n",
              "198  7.920003e+09 -16.944275              0.0\n",
              "199  7.960002e+09 -17.648551              0.0\n",
              "200  8.000000e+09 -17.994606              0.0\n",
              "\n",
              "[201 rows x 3 columns]"
            ],
            "text/html": [
              "\n",
              "  <div id=\"df-94501c72-c42d-4982-9a1b-4ef3767ef06f\">\n",
              "    <div class=\"colab-df-container\">\n",
              "      <div>\n",
              "<style scoped>\n",
              "    .dataframe tbody tr th:only-of-type {\n",
              "        vertical-align: middle;\n",
              "    }\n",
              "\n",
              "    .dataframe tbody tr th {\n",
              "        vertical-align: top;\n",
              "    }\n",
              "\n",
              "    .dataframe thead th {\n",
              "        text-align: right;\n",
              "    }\n",
              "</style>\n",
              "<table border=\"1\" class=\"dataframe\">\n",
              "  <thead>\n",
              "    <tr style=\"text-align: right;\">\n",
              "      <th></th>\n",
              "      <th>!Frequency</th>\n",
              "      <th>S21</th>\n",
              "      <th>Formatted Data</th>\n",
              "    </tr>\n",
              "  </thead>\n",
              "  <tbody>\n",
              "    <tr>\n",
              "      <th>0</th>\n",
              "      <td>3.000000e+05</td>\n",
              "      <td>-0.078049</td>\n",
              "      <td>0.0</td>\n",
              "    </tr>\n",
              "    <tr>\n",
              "      <th>1</th>\n",
              "      <td>4.029850e+07</td>\n",
              "      <td>-0.153413</td>\n",
              "      <td>0.0</td>\n",
              "    </tr>\n",
              "    <tr>\n",
              "      <th>2</th>\n",
              "      <td>8.029700e+07</td>\n",
              "      <td>-0.223059</td>\n",
              "      <td>0.0</td>\n",
              "    </tr>\n",
              "    <tr>\n",
              "      <th>3</th>\n",
              "      <td>1.202955e+08</td>\n",
              "      <td>-0.271866</td>\n",
              "      <td>0.0</td>\n",
              "    </tr>\n",
              "    <tr>\n",
              "      <th>4</th>\n",
              "      <td>1.602940e+08</td>\n",
              "      <td>-0.361810</td>\n",
              "      <td>0.0</td>\n",
              "    </tr>\n",
              "    <tr>\n",
              "      <th>...</th>\n",
              "      <td>...</td>\n",
              "      <td>...</td>\n",
              "      <td>...</td>\n",
              "    </tr>\n",
              "    <tr>\n",
              "      <th>196</th>\n",
              "      <td>7.840006e+09</td>\n",
              "      <td>-16.031534</td>\n",
              "      <td>0.0</td>\n",
              "    </tr>\n",
              "    <tr>\n",
              "      <th>197</th>\n",
              "      <td>7.880004e+09</td>\n",
              "      <td>-16.607660</td>\n",
              "      <td>0.0</td>\n",
              "    </tr>\n",
              "    <tr>\n",
              "      <th>198</th>\n",
              "      <td>7.920003e+09</td>\n",
              "      <td>-16.944275</td>\n",
              "      <td>0.0</td>\n",
              "    </tr>\n",
              "    <tr>\n",
              "      <th>199</th>\n",
              "      <td>7.960002e+09</td>\n",
              "      <td>-17.648551</td>\n",
              "      <td>0.0</td>\n",
              "    </tr>\n",
              "    <tr>\n",
              "      <th>200</th>\n",
              "      <td>8.000000e+09</td>\n",
              "      <td>-17.994606</td>\n",
              "      <td>0.0</td>\n",
              "    </tr>\n",
              "  </tbody>\n",
              "</table>\n",
              "<p>201 rows × 3 columns</p>\n",
              "</div>\n",
              "      <button class=\"colab-df-convert\" onclick=\"convertToInteractive('df-94501c72-c42d-4982-9a1b-4ef3767ef06f')\"\n",
              "              title=\"Convert this dataframe to an interactive table.\"\n",
              "              style=\"display:none;\">\n",
              "        \n",
              "  <svg xmlns=\"http://www.w3.org/2000/svg\" height=\"24px\"viewBox=\"0 0 24 24\"\n",
              "       width=\"24px\">\n",
              "    <path d=\"M0 0h24v24H0V0z\" fill=\"none\"/>\n",
              "    <path d=\"M18.56 5.44l.94 2.06.94-2.06 2.06-.94-2.06-.94-.94-2.06-.94 2.06-2.06.94zm-11 1L8.5 8.5l.94-2.06 2.06-.94-2.06-.94L8.5 2.5l-.94 2.06-2.06.94zm10 10l.94 2.06.94-2.06 2.06-.94-2.06-.94-.94-2.06-.94 2.06-2.06.94z\"/><path d=\"M17.41 7.96l-1.37-1.37c-.4-.4-.92-.59-1.43-.59-.52 0-1.04.2-1.43.59L10.3 9.45l-7.72 7.72c-.78.78-.78 2.05 0 2.83L4 21.41c.39.39.9.59 1.41.59.51 0 1.02-.2 1.41-.59l7.78-7.78 2.81-2.81c.8-.78.8-2.07 0-2.86zM5.41 20L4 18.59l7.72-7.72 1.47 1.35L5.41 20z\"/>\n",
              "  </svg>\n",
              "      </button>\n",
              "      \n",
              "  <style>\n",
              "    .colab-df-container {\n",
              "      display:flex;\n",
              "      flex-wrap:wrap;\n",
              "      gap: 12px;\n",
              "    }\n",
              "\n",
              "    .colab-df-convert {\n",
              "      background-color: #E8F0FE;\n",
              "      border: none;\n",
              "      border-radius: 50%;\n",
              "      cursor: pointer;\n",
              "      display: none;\n",
              "      fill: #1967D2;\n",
              "      height: 32px;\n",
              "      padding: 0 0 0 0;\n",
              "      width: 32px;\n",
              "    }\n",
              "\n",
              "    .colab-df-convert:hover {\n",
              "      background-color: #E2EBFA;\n",
              "      box-shadow: 0px 1px 2px rgba(60, 64, 67, 0.3), 0px 1px 3px 1px rgba(60, 64, 67, 0.15);\n",
              "      fill: #174EA6;\n",
              "    }\n",
              "\n",
              "    [theme=dark] .colab-df-convert {\n",
              "      background-color: #3B4455;\n",
              "      fill: #D2E3FC;\n",
              "    }\n",
              "\n",
              "    [theme=dark] .colab-df-convert:hover {\n",
              "      background-color: #434B5C;\n",
              "      box-shadow: 0px 1px 3px 1px rgba(0, 0, 0, 0.15);\n",
              "      filter: drop-shadow(0px 1px 2px rgba(0, 0, 0, 0.3));\n",
              "      fill: #FFFFFF;\n",
              "    }\n",
              "  </style>\n",
              "\n",
              "      <script>\n",
              "        const buttonEl =\n",
              "          document.querySelector('#df-94501c72-c42d-4982-9a1b-4ef3767ef06f button.colab-df-convert');\n",
              "        buttonEl.style.display =\n",
              "          google.colab.kernel.accessAllowed ? 'block' : 'none';\n",
              "\n",
              "        async function convertToInteractive(key) {\n",
              "          const element = document.querySelector('#df-94501c72-c42d-4982-9a1b-4ef3767ef06f');\n",
              "          const dataTable =\n",
              "            await google.colab.kernel.invokeFunction('convertToInteractive',\n",
              "                                                     [key], {});\n",
              "          if (!dataTable) return;\n",
              "\n",
              "          const docLinkHtml = 'Like what you see? Visit the ' +\n",
              "            '<a target=\"_blank\" href=https://colab.research.google.com/notebooks/data_table.ipynb>data table notebook</a>'\n",
              "            + ' to learn more about interactive tables.';\n",
              "          element.innerHTML = '';\n",
              "          dataTable['output_type'] = 'display_data';\n",
              "          await google.colab.output.renderOutput(dataTable, element);\n",
              "          const docLink = document.createElement('div');\n",
              "          docLink.innerHTML = docLinkHtml;\n",
              "          element.appendChild(docLink);\n",
              "        }\n",
              "      </script>\n",
              "    </div>\n",
              "  </div>\n",
              "  "
            ]
          },
          "metadata": {},
          "execution_count": 59
        }
      ]
    },
    {
      "cell_type": "code",
      "source": [
        "data2.rename (\n",
        "    columns=({' S21' : 'S21'}),\n",
        "    inplace=True\n",
        ")"
      ],
      "metadata": {
        "id": "geSchIT6H673"
      },
      "execution_count": 60,
      "outputs": []
    },
    {
      "cell_type": "markdown",
      "source": [
        "Membuat variabel baru dan memasukkan data S11 dan S21 kedalam array"
      ],
      "metadata": {
        "id": "GpcONSSM6aH0"
      }
    },
    {
      "cell_type": "code",
      "source": [
        "x_s11 = data.frekuensi\n",
        "y_s11 = data.S11\n",
        "z_s11= data2.S21\n"
      ],
      "metadata": {
        "id": "5Iev0_Jla-VO"
      },
      "execution_count": 61,
      "outputs": []
    },
    {
      "cell_type": "code",
      "source": [
        "frekuensi = np.array(x_s11)\n",
        "frekuensi"
      ],
      "metadata": {
        "colab": {
          "base_uri": "https://localhost:8080/"
        },
        "id": "ovPGXH7NbHju",
        "outputId": "3c7cb056-35df-4a8d-ddf0-285d9a455d25"
      },
      "execution_count": 62,
      "outputs": [
        {
          "output_type": "execute_result",
          "data": {
            "text/plain": [
              "array([3.0000000e+05, 4.0298500e+07, 8.0297000e+07, 1.2029550e+08,\n",
              "       1.6029400e+08, 2.0029250e+08, 2.4029100e+08, 2.8028950e+08,\n",
              "       3.2028800e+08, 3.6028650e+08, 4.0028500e+08, 4.4028350e+08,\n",
              "       4.8028200e+08, 5.2028050e+08, 5.6027900e+08, 6.0027750e+08,\n",
              "       6.4027600e+08, 6.8027450e+08, 7.2027300e+08, 7.6027150e+08,\n",
              "       8.0027000e+08, 8.4026850e+08, 8.8026700e+08, 9.2026550e+08,\n",
              "       9.6026400e+08, 1.0002625e+09, 1.0402610e+09, 1.0802595e+09,\n",
              "       1.1202580e+09, 1.1602565e+09, 1.2002550e+09, 1.2402535e+09,\n",
              "       1.2802520e+09, 1.3202505e+09, 1.3602490e+09, 1.4002475e+09,\n",
              "       1.4402460e+09, 1.4802445e+09, 1.5202430e+09, 1.5602415e+09,\n",
              "       1.6002400e+09, 1.6402385e+09, 1.6802370e+09, 1.7202355e+09,\n",
              "       1.7602340e+09, 1.8002325e+09, 1.8402310e+09, 1.8802295e+09,\n",
              "       1.9202280e+09, 1.9602265e+09, 2.0002250e+09, 2.0402235e+09,\n",
              "       2.0802220e+09, 2.1202205e+09, 2.1602190e+09, 2.2002175e+09,\n",
              "       2.2402160e+09, 2.2802145e+09, 2.3202130e+09, 2.3602115e+09,\n",
              "       2.4002100e+09, 2.4402085e+09, 2.4802070e+09, 2.5202055e+09,\n",
              "       2.5602040e+09, 2.6002025e+09, 2.6402010e+09, 2.6801995e+09,\n",
              "       2.7201980e+09, 2.7601965e+09, 2.8001950e+09, 2.8401935e+09,\n",
              "       2.8801920e+09, 2.9201905e+09, 2.9601890e+09, 3.0001875e+09,\n",
              "       3.0401860e+09, 3.0801845e+09, 3.1201830e+09, 3.1601815e+09,\n",
              "       3.2001800e+09, 3.2401785e+09, 3.2801770e+09, 3.3201755e+09,\n",
              "       3.3601740e+09, 3.4001725e+09, 3.4401710e+09, 3.4801695e+09,\n",
              "       3.5201680e+09, 3.5601665e+09, 3.6001650e+09, 3.6401635e+09,\n",
              "       3.6801620e+09, 3.7201605e+09, 3.7601590e+09, 3.8001575e+09,\n",
              "       3.8401560e+09, 3.8801545e+09, 3.9201530e+09, 3.9601515e+09,\n",
              "       4.0001500e+09, 4.0401485e+09, 4.0801470e+09, 4.1201455e+09,\n",
              "       4.1601440e+09, 4.2001425e+09, 4.2401410e+09, 4.2801395e+09,\n",
              "       4.3201380e+09, 4.3601365e+09, 4.4001350e+09, 4.4401335e+09,\n",
              "       4.4801320e+09, 4.5201305e+09, 4.5601290e+09, 4.6001275e+09,\n",
              "       4.6401260e+09, 4.6801245e+09, 4.7201230e+09, 4.7601215e+09,\n",
              "       4.8001200e+09, 4.8401185e+09, 4.8801170e+09, 4.9201155e+09,\n",
              "       4.9601140e+09, 5.0001125e+09, 5.0401110e+09, 5.0801095e+09,\n",
              "       5.1201080e+09, 5.1601065e+09, 5.2001050e+09, 5.2401035e+09,\n",
              "       5.2801020e+09, 5.3201005e+09, 5.3600990e+09, 5.4000975e+09,\n",
              "       5.4400960e+09, 5.4800945e+09, 5.5200930e+09, 5.5600915e+09,\n",
              "       5.6000900e+09, 5.6400885e+09, 5.6800870e+09, 5.7200855e+09,\n",
              "       5.7600840e+09, 5.8000825e+09, 5.8400810e+09, 5.8800795e+09,\n",
              "       5.9200780e+09, 5.9600765e+09, 6.0000750e+09, 6.0400735e+09,\n",
              "       6.0800720e+09, 6.1200705e+09, 6.1600690e+09, 6.2000675e+09,\n",
              "       6.2400660e+09, 6.2800645e+09, 6.3200630e+09, 6.3600615e+09,\n",
              "       6.4000600e+09, 6.4400585e+09, 6.4800570e+09, 6.5200555e+09,\n",
              "       6.5600540e+09, 6.6000525e+09, 6.6400510e+09, 6.6800495e+09,\n",
              "       6.7200480e+09, 6.7600465e+09, 6.8000450e+09, 6.8400435e+09,\n",
              "       6.8800420e+09, 6.9200405e+09, 6.9600390e+09, 7.0000375e+09,\n",
              "       7.0400360e+09, 7.0800345e+09, 7.1200330e+09, 7.1600315e+09,\n",
              "       7.2000300e+09, 7.2400285e+09, 7.2800270e+09, 7.3200255e+09,\n",
              "       7.3600240e+09, 7.4000225e+09, 7.4400210e+09, 7.4800195e+09,\n",
              "       7.5200180e+09, 7.5600165e+09, 7.6000150e+09, 7.6400135e+09,\n",
              "       7.6800120e+09, 7.7200105e+09, 7.7600090e+09, 7.8000075e+09,\n",
              "       7.8400060e+09, 7.8800045e+09, 7.9200030e+09, 7.9600015e+09,\n",
              "       8.0000000e+09])"
            ]
          },
          "metadata": {},
          "execution_count": 62
        }
      ]
    },
    {
      "cell_type": "code",
      "source": [
        "s11 = np.array(y_s11)\n",
        "s11"
      ],
      "metadata": {
        "colab": {
          "base_uri": "https://localhost:8080/"
        },
        "id": "Qg4fB49mbLDR",
        "outputId": "09642fc6-5ab8-4152-cb6d-eab9e0e4591e"
      },
      "execution_count": 63,
      "outputs": [
        {
          "output_type": "execute_result",
          "data": {
            "text/plain": [
              "array([-44.62256763, -30.53766075, -25.81435135, -35.06725901,\n",
              "       -20.23982284, -39.18602234, -17.40536813, -29.07864367,\n",
              "       -18.68262608, -22.89970573, -22.75942625, -19.28225239,\n",
              "       -24.01667232, -18.72838215, -22.49811578, -20.89303325,\n",
              "       -28.14153777, -26.65477068, -24.43555063, -29.38148872,\n",
              "       -16.90287073, -32.81858843, -14.60838694, -23.18586972,\n",
              "       -14.307728  , -17.1329308 , -16.48321997, -14.44188755,\n",
              "       -15.92689068, -13.80784827, -15.37322462, -14.97234011,\n",
              "       -15.60464702, -16.12060149, -16.93057391, -17.10295844,\n",
              "       -16.78498548, -16.7288699 , -14.49992228, -14.16413474,\n",
              "       -13.73800216, -13.07115572, -12.46959038, -12.36816646,\n",
              "       -11.11209986, -12.09064131, -10.35049263, -12.27358064,\n",
              "       -11.02155591, -12.06123113, -12.49467713, -11.01711152,\n",
              "       -14.48102342, -10.58400938, -14.06393105, -10.11755721,\n",
              "       -12.01651754, -10.56940523,  -9.5010884 , -10.9382195 ,\n",
              "        -7.84146934, -10.65949419,  -7.22733445,  -9.42456296,\n",
              "        -7.80594816,  -8.53133468,  -8.93645934,  -8.1324892 ,\n",
              "        -9.80011974,  -8.32686808, -10.13792794,  -9.05404439,\n",
              "        -9.81511614,  -9.20970851,  -8.63174142,  -8.75226168,\n",
              "        -7.39417987,  -7.70414464,  -7.22898998,  -6.74411794,\n",
              "        -7.04965201,  -6.70287941,  -7.13280236,  -6.9817687 ,\n",
              "        -6.86785924,  -8.11476798,  -7.36605356,  -8.60792012,\n",
              "        -7.97959325,  -8.45613738,  -8.12981945,  -7.41452771,\n",
              "        -7.46788243,  -6.40907021,  -6.66978092,  -5.88241899,\n",
              "        -5.98486117,  -5.98913833,  -5.67026603,  -6.58146289,\n",
              "        -5.89498622,  -7.48858864,  -7.14159495,  -8.69177661,\n",
              "        -9.11975618,  -8.44532541,  -9.03082734,  -6.99595999,\n",
              "        -6.89530224,  -5.22149606,  -5.19452559,  -4.33690711,\n",
              "        -4.13541038,  -3.97805119,  -3.76578198,  -4.30436243,\n",
              "        -4.41064558,  -5.57181166,  -6.78431939,  -9.46382349,\n",
              "       -12.6433038 , -12.67696399,  -9.83058609,  -6.81990913,\n",
              "        -5.13049041,  -3.97700895,  -3.33880221,  -2.95586669,\n",
              "        -2.80747576,  -2.89120033,  -3.31200161,  -4.12305956,\n",
              "        -5.83503413,  -8.7984847 , -14.68683618, -24.94719246,\n",
              "       -14.47436003, -10.40864939,  -7.78678783,  -7.04630634,\n",
              "        -5.88946095,  -6.16428726,  -5.81939397,  -6.2961398 ,\n",
              "        -6.90510263,  -7.52550346,  -9.62455911, -11.07816775,\n",
              "       -14.51968071, -19.98652189, -29.35901134, -24.75930894,\n",
              "       -20.0793742 , -17.25414699, -14.90615382, -15.98257746,\n",
              "       -14.85104904, -17.13156985, -16.64427048, -17.31671325,\n",
              "       -15.30316845, -13.48450455, -11.38697814,  -9.90904412,\n",
              "        -8.55689528,  -7.48954403,  -6.7073947 ,  -6.02476339,\n",
              "        -5.52917937,  -5.08434879,  -4.66263235,  -4.48740299,\n",
              "        -4.183728  ,  -4.08715075,  -3.94966091,  -3.88176658,\n",
              "        -3.9247618 ,  -3.91554882,  -4.05958179,  -4.06204475,\n",
              "        -4.12814933,  -4.11410967,  -3.95576905,  -3.82648839,\n",
              "        -3.59489972,  -3.55228647,  -3.39980053,  -3.42422123,\n",
              "        -3.4793349 ,  -3.59165522,  -3.82317278,  -4.01497136,\n",
              "        -4.26451752,  -4.29386428,  -4.29156796,  -4.10850486,\n",
              "        -3.79530111,  -3.37755697,  -2.92977685,  -2.58129297,\n",
              "        -2.24527474])"
            ]
          },
          "metadata": {},
          "execution_count": 63
        }
      ]
    },
    {
      "cell_type": "code",
      "source": [
        "s21=np.array(z_s11)\n",
        "s21"
      ],
      "metadata": {
        "id": "oGFIy6KDeUEj",
        "colab": {
          "base_uri": "https://localhost:8080/"
        },
        "outputId": "af830b5f-6af8-415e-f840-60812ee44318"
      },
      "execution_count": 64,
      "outputs": [
        {
          "output_type": "execute_result",
          "data": {
            "text/plain": [
              "array([ -0.07804918,  -0.15341326,  -0.2230588 ,  -0.2718659 ,\n",
              "        -0.36180967,  -0.35453365,  -0.51226886,  -0.43534569,\n",
              "        -0.54252267,  -0.53096556,  -0.594838  ,  -0.67457885,\n",
              "        -0.66466294,  -0.730611  ,  -0.69994462,  -0.73440995,\n",
              "        -0.75879995,  -0.77237991,  -0.82908811,  -0.85617454,\n",
              "        -0.98313229,  -0.92142524,  -1.11597805,  -0.99266062,\n",
              "        -1.20521585,  -1.14310279,  -1.21920651,  -1.32613381,\n",
              "        -1.29734599,  -1.39819277,  -1.35818537,  -1.388639  ,\n",
              "        -1.41245606,  -1.4194121 ,  -1.44592696,  -1.47966267,\n",
              "        -1.52004309,  -1.55146206,  -1.6578915 ,  -1.67403325,\n",
              "        -1.74740101,  -1.78926977,  -1.87959511,  -1.932921  ,\n",
              "        -2.08425697,  -2.06972377,  -2.27802857,  -2.13545181,\n",
              "        -2.29191534,  -2.21287941,  -2.24194052,  -2.41130973,\n",
              "        -2.22572924,  -2.52720572,  -2.29342668,  -2.5707573 ,\n",
              "        -2.4047333 ,  -2.55582437,  -2.7518504 ,  -2.6189886 ,\n",
              "        -3.16261494,  -2.75637766,  -3.43412138,  -3.02086991,\n",
              "        -3.35880689,  -3.18889065,  -3.15688683,  -3.332151  ,\n",
              "        -3.10655669,  -3.42057575,  -3.15612187,  -3.34555508,\n",
              "        -3.19216961,  -3.27891325,  -3.3689904 ,  -3.33158347,\n",
              "        -3.73791913,  -3.62196874,  -3.81807325,  -3.89870873,\n",
              "        -3.82849928,  -3.92817116,  -3.86818981,  -3.9548958 ,\n",
              "        -4.11237299,  -3.85529629,  -4.06778529,  -3.90734937,\n",
              "        -4.02590189,  -4.02490058,  -4.19908291,  -4.35506079,\n",
              "        -4.56335434,  -4.81516686,  -4.86536987,  -5.12926107,\n",
              "        -5.11468786,  -5.07306456,  -5.28096284,  -4.86260558,\n",
              "        -5.2289446 ,  -4.71936006,  -4.84520562,  -4.59856149,\n",
              "        -4.60364721,  -4.65332906,  -4.83978205,  -5.12946811,\n",
              "        -5.43959445,  -5.98318483,  -6.03948905,  -6.65523858,\n",
              "        -6.84451546,  -7.06437399,  -7.54625494,  -7.09929275,\n",
              "        -7.6505129 ,  -7.2784106 ,  -7.51532947,  -7.54112748,\n",
              "        -7.96933063,  -8.66009349, -10.54746778, -11.59335899,\n",
              "       -14.33647123, -16.00853657, -18.55588061, -20.47359066,\n",
              "       -20.79367529, -19.31989591, -17.18606466, -14.28845824,\n",
              "       -12.85918551, -10.26445848,  -9.69747346,  -8.97739651,\n",
              "        -8.43744517,  -8.54028796,  -8.71328041,  -8.31346517,\n",
              "        -8.92213973,  -7.99009179,  -8.30767914,  -7.80476898,\n",
              "        -7.51429124,  -7.39619985,  -6.98766207,  -6.55934923,\n",
              "        -6.69508287,  -6.20567971,  -6.38597464,  -6.39992994,\n",
              "        -6.48047683,  -6.61526112,  -7.08962186,  -6.87426223,\n",
              "        -7.48376126,  -7.28686495,  -7.64475923,  -7.86497021,\n",
              "        -8.12157277,  -8.41663015,  -8.99567424,  -9.0580414 ,\n",
              "        -9.75796698,  -9.92732429, -10.50216731, -10.94298029,\n",
              "       -11.50772923, -12.11766727, -12.87960517, -13.49110447,\n",
              "       -14.06893378, -14.69478273, -14.81962967, -14.99357789,\n",
              "       -15.0113566 , -14.57148048, -14.65125309, -13.98967547,\n",
              "       -13.82856134, -13.66429854, -13.34333788, -13.37786414,\n",
              "       -13.32842799, -13.34555302, -13.66811314, -13.66824879,\n",
              "       -13.85430723, -14.10425711, -14.17200649, -14.49571564,\n",
              "       -14.65583615, -14.86798289, -15.27797102, -15.59949701,\n",
              "       -16.03153416, -16.60766031, -16.9442755 , -17.64855135,\n",
              "       -17.99460554])"
            ]
          },
          "metadata": {},
          "execution_count": 64
        }
      ]
    },
    {
      "cell_type": "markdown",
      "source": [
        "**MENGHITUNG NILAI EPSILON RELATIF DAN MIU RELATIF**"
      ],
      "metadata": {
        "id": "MB2VHIwp7l9b"
      }
    },
    {
      "cell_type": "markdown",
      "source": [
        "![Screenshot_1.png](data:image/png;base64,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)"
      ],
      "metadata": {
        "id": "aFTjK8WecL8B"
      }
    },
    {
      "cell_type": "markdown",
      "source": [
        "Menghitung nilai impedansi gelombang dari nilai array S11 dan S21"
      ],
      "metadata": {
        "id": "x4FKq3oq6iLp"
      }
    },
    {
      "cell_type": "code",
      "source": [
        "#z=impedansi gelombang\n",
        "z=np.sqrt((np.power(1+s11,2)-np.power(s21,2))/(np.power(1-s11,2)-np.power(s21,2)))\n",
        "z"
      ],
      "metadata": {
        "colab": {
          "base_uri": "https://localhost:8080/"
        },
        "id": "GAFJFp1wcP_Q",
        "outputId": "3710fb15-dca3-4295-c6e3-ca90060e603b"
      },
      "execution_count": 65,
      "outputs": [
        {
          "output_type": "stream",
          "name": "stderr",
          "text": [
            "/usr/local/lib/python3.7/dist-packages/ipykernel_launcher.py:2: RuntimeWarning: invalid value encountered in sqrt\n",
            "  \n"
          ]
        },
        {
          "output_type": "execute_result",
          "data": {
            "text/plain": [
              "array([0.95616192, 0.9365822 , 0.92540771, 0.9445448 , 0.9058085 ,\n",
              "       0.95022748, 0.89124667, 0.93349321, 0.89830591, 0.91627375,\n",
              "       0.91576766, 0.90127644, 0.91999439, 0.89847612, 0.91480769,\n",
              "       0.90853864, 0.93132116, 0.92762109, 0.92128269, 0.93411628,\n",
              "       0.88792684, 0.94081561, 0.87115669, 0.91716125, 0.86847041,\n",
              "       0.88923596, 0.88500926, 0.86944763, 0.88109954, 0.86362563,\n",
              "       0.87694366, 0.87376101, 0.87861328, 0.88231927, 0.88768242,\n",
              "       0.88873128, 0.88666524, 0.88626324, 0.86936169, 0.86635732,\n",
              "       0.86220712, 0.85533201, 0.8483055 , 0.84690809, 0.82932027,\n",
              "       0.84293797, 0.81556884, 0.84495495, 0.82670205, 0.84192627,\n",
              "       0.84720836, 0.82585588, 0.86787561, 0.81776439, 0.86383429,\n",
              "       0.80874894, 0.84040584, 0.81727545, 0.79369296, 0.82309543,\n",
              "       0.73476775, 0.81718376, 0.69483801, 0.78822436, 0.72718012,\n",
              "       0.75961468, 0.77285733, 0.74166322, 0.79599788, 0.74673402,\n",
              "       0.80285186, 0.77272919, 0.79518095, 0.77842563, 0.75890829,\n",
              "       0.76371536, 0.69023733, 0.71278611, 0.67515836, 0.63044619,\n",
              "       0.66151103, 0.62394908, 0.6652274 , 0.64730374, 0.62402693,\n",
              "       0.72399583, 0.66984304, 0.7437036 , 0.71032881, 0.73350805,\n",
              "       0.7107702 , 0.65411485, 0.64258221, 0.43760832, 0.49099128,\n",
              "              nan,        nan,        nan,        nan, 0.47106604,\n",
              "              nan, 0.6311188 , 0.5768103 , 0.7227194 , 0.7421852 ,\n",
              "       0.70709683, 0.72941426, 0.50618412, 0.39716305,        nan,\n",
              "              nan, 1.44819987, 1.34458041, 1.27802076, 1.20000587,\n",
              "       1.33166884, 1.26611876, 1.81034081,        nan, 0.52974724,\n",
              "       0.76654643, 0.73993397,        nan, 1.17149172, 1.05933461,\n",
              "       1.03378742, 1.02030897, 1.01454467, 1.01334767, 1.01601839,\n",
              "       1.02365371, 1.04532179, 1.09395117, 2.18278229, 0.78332332,\n",
              "       0.91193558, 0.8098863 , 0.52190663,        nan, 2.72923766,\n",
              "       1.31642623, 1.72344938, 1.42616381, 2.06855354,        nan,\n",
              "              nan, 0.63164122, 0.75444157, 0.83888911, 0.89503707,\n",
              "       0.93095897, 0.91701975, 0.89463723, 0.87267483, 0.84018471,\n",
              "       0.85726117, 0.83411733, 0.86683679, 0.85832538, 0.86421791,\n",
              "       0.83287538, 0.78220738, 0.60982253,        nan, 3.13260278,\n",
              "       1.45992338, 1.23579564, 1.15858048, 1.11637586, 1.08866472,\n",
              "       1.06741346, 1.05743492, 1.04777309, 1.04212246, 1.03969607,\n",
              "       1.0379106 , 1.03830184, 1.04078639, 1.0420604 , 1.04667511,\n",
              "       1.04886515, 1.04999747, 1.05028186, 1.04800842, 1.04492226,\n",
              "       1.04416728, 1.03981205, 1.0401423 , 1.03969827, 1.03960612,\n",
              "       1.04216882, 1.04250733, 1.04459629, 1.04354075, 1.04094594,\n",
              "       1.03713381, 1.03192671, 1.02598264, 1.02134129, 1.01713977,\n",
              "       1.01423297])"
            ]
          },
          "metadata": {},
          "execution_count": 65
        }
      ]
    },
    {
      "cell_type": "markdown",
      "source": [
        "Menghitung E-ink"
      ],
      "metadata": {
        "id": "HB4xmzT563Mh"
      }
    },
    {
      "cell_type": "code",
      "source": [
        "# eink = \n",
        "any=(z-1)/(z+1)\n",
        "eink = s21/(1-(s21*any))\n",
        "eink"
      ],
      "metadata": {
        "colab": {
          "base_uri": "https://localhost:8080/"
        },
        "id": "umdo3UDMegtT",
        "outputId": "7ec3e578-4acd-4a1b-c2ef-b5a3fd3d6930"
      },
      "execution_count": 66,
      "outputs": [
        {
          "output_type": "execute_result",
          "data": {
            "text/plain": [
              "array([-7.81859338e-02, -1.54187882e-01, -2.25003169e-01, -2.73990193e-01,\n",
              "       -3.68397295e-01, -3.57770832e-01, -5.27816903e-01, -4.41963959e-01,\n",
              "       -5.58762242e-01, -5.43576017e-01, -6.10813084e-01, -6.99065312e-01,\n",
              "       -6.83596031e-01, -7.60316983e-01, -7.22442529e-01, -7.61200033e-01,\n",
              "       -7.79842716e-01, -7.95449178e-01, -8.58241507e-01, -8.81894759e-01,\n",
              "       -1.04406581e+00, -9.48064424e-01, -1.20887206e+00, -1.03714581e+00,\n",
              "       -1.31694591e+00, -1.22521549e+00, -1.31717104e+00, -1.46148194e+00,\n",
              "       -1.41323492e+00, -1.55755464e+00, -1.49094748e+00, -1.53196228e+00,\n",
              "       -1.55431179e+00, -1.55763719e+00, -1.58203413e+00, -1.62096143e+00,\n",
              "       -1.67278736e+00, -1.71157875e+00, -1.87514580e+00, -1.90203190e+00,\n",
              "       -2.00688725e+00, -2.07937802e+00, -2.22243323e+00, -2.30170363e+00,\n",
              "       -2.58742241e+00, -2.51298874e+00, -2.96390325e+00, -2.60248814e+00,\n",
              "       -2.92871230e+00, -2.73164251e+00, -2.75233950e+00, -3.13150103e+00,\n",
              "       -2.64161825e+00, -3.38476667e+00, -2.75503349e+00, -3.53040303e+00,\n",
              "       -3.03831590e+00, -3.43980015e+00, -4.02618940e+00, -3.51134066e+00,\n",
              "       -6.12362516e+00, -3.81401589e+00, -8.99753780e+00, -4.70361176e+00,\n",
              "       -7.15471630e+00, -5.65047734e+00, -5.30095071e+00, -6.58853471e+00,\n",
              "       -4.80047441e+00, -6.78635853e+00, -4.81948483e+00, -5.85822563e+00,\n",
              "       -5.02076726e+00, -5.54357785e+00, -6.25955039e+00, -6.01729086e+00,\n",
              "       -1.18676410e+01, -9.22468228e+00, -1.47069131e+01, -3.35153253e+01,\n",
              "       -1.73987559e+01, -4.34675207e+01, -1.73968440e+01, -2.58091257e+01,\n",
              "       -8.57490726e+01, -1.00717282e+01, -2.07828250e+01, -9.17902380e+00,\n",
              "       -1.26541017e+01, -1.05570441e+01, -1.44753086e+01, -4.87518641e+01,\n",
              "       -6.48515984e+02,  5.44892619e+00,  7.36077542e+00,             nan,\n",
              "                   nan,             nan,             nan,  6.49742156e+00,\n",
              "                   nan,  7.01305329e+01,  1.61306451e+01, -1.76978190e+01,\n",
              "       -1.44434582e+01, -2.30839176e+01, -1.99362220e+01,  7.52406270e+00,\n",
              "        4.03820270e+00,             nan,             nan, -3.00002273e+00,\n",
              "       -3.41213917e+00, -3.79362334e+00, -4.47572319e+00, -3.53226630e+00,\n",
              "       -4.02991953e+00, -2.34887804e+00,             nan,  5.72084459e+00,\n",
              "        1.49891949e+02,  2.94146081e+01,             nan, -6.05215383e+00,\n",
              "       -1.01456215e+01, -1.26454659e+01, -1.56387622e+01, -1.78369993e+01,\n",
              "       -1.82744736e+01, -1.67488280e+01, -1.43112100e+01, -1.08524234e+01,\n",
              "       -8.15439119e+00, -2.13200285e+00,  5.44010905e+01, -1.53067818e+01,\n",
              "       -7.41977466e+01,  5.07487998e+00,             nan, -1.71237525e+00,\n",
              "       -4.02120340e+00, -2.55890487e+00, -3.37810543e+00, -2.09927953e+00,\n",
              "                   nan,             nan,  1.20991713e+01, -8.00622776e+01,\n",
              "       -1.61942831e+01, -9.45587349e+00, -8.27551633e+00, -8.85224915e+00,\n",
              "       -1.01318579e+01, -1.20229095e+01, -1.84488808e+01, -1.45739282e+01,\n",
              "       -2.31589418e+01, -1.51739785e+01, -1.83248262e+01, -1.84127783e+01,\n",
              "       -3.13016462e+01,  2.94857894e+02,  7.62146132e+00,             nan,\n",
              "       -1.61675251e+00, -3.47585951e+00, -4.98300044e+00, -6.06619607e+00,\n",
              "       -7.04789218e+00, -8.00162805e+00, -9.07031414e+00, -9.80020276e+00,\n",
              "       -1.05923361e+01, -1.12767325e+01, -1.15022085e+01, -1.17236177e+01,\n",
              "       -1.17086032e+01, -1.12850475e+01, -1.12548496e+01, -1.06059585e+01,\n",
              "       -1.03989059e+01, -1.02487942e+01, -1.00534711e+01, -1.01841432e+01,\n",
              "       -1.03097765e+01, -1.03586347e+01, -1.07897563e+01, -1.07713948e+01,\n",
              "       -1.09119638e+01, -1.10718558e+01, -1.09636289e+01, -1.11361987e+01,\n",
              "       -1.11056835e+01, -1.12911240e+01, -1.16937245e+01, -1.21457851e+01,\n",
              "       -1.28058038e+01, -1.36915237e+01, -1.43729857e+01, -1.53470879e+01,\n",
              "       -1.59646462e+01])"
            ]
          },
          "metadata": {},
          "execution_count": 66
        }
      ]
    },
    {
      "cell_type": "markdown",
      "source": [
        "Mencari nilai n"
      ],
      "metadata": {
        "id": "1lQoguZ_6_jC"
      }
    },
    {
      "cell_type": "code",
      "source": [
        "ln_e= np.log(eink)\n",
        "ln_e"
      ],
      "metadata": {
        "colab": {
          "base_uri": "https://localhost:8080/"
        },
        "id": "FnLyPBCDJE7m",
        "outputId": "402ec87a-3bc7-41b5-adac-007f7e469980"
      },
      "execution_count": 79,
      "outputs": [
        {
          "output_type": "stream",
          "name": "stderr",
          "text": [
            "/usr/local/lib/python3.7/dist-packages/ipykernel_launcher.py:1: RuntimeWarning: invalid value encountered in log\n",
            "  \"\"\"Entry point for launching an IPython kernel.\n"
          ]
        },
        {
          "output_type": "execute_result",
          "data": {
            "text/plain": [
              "array([       nan,        nan,        nan,        nan,        nan,\n",
              "              nan,        nan,        nan,        nan,        nan,\n",
              "              nan,        nan,        nan,        nan,        nan,\n",
              "              nan,        nan,        nan,        nan,        nan,\n",
              "              nan,        nan,        nan,        nan,        nan,\n",
              "              nan,        nan,        nan,        nan,        nan,\n",
              "              nan,        nan,        nan,        nan,        nan,\n",
              "              nan,        nan,        nan,        nan,        nan,\n",
              "              nan,        nan,        nan,        nan,        nan,\n",
              "              nan,        nan,        nan,        nan,        nan,\n",
              "              nan,        nan,        nan,        nan,        nan,\n",
              "              nan,        nan,        nan,        nan,        nan,\n",
              "              nan,        nan,        nan,        nan,        nan,\n",
              "              nan,        nan,        nan,        nan,        nan,\n",
              "              nan,        nan,        nan,        nan,        nan,\n",
              "              nan,        nan,        nan,        nan,        nan,\n",
              "              nan,        nan,        nan,        nan,        nan,\n",
              "              nan,        nan,        nan,        nan,        nan,\n",
              "              nan,        nan,        nan, 1.69541856, 1.99616528,\n",
              "              nan,        nan,        nan,        nan, 1.87140542,\n",
              "              nan, 4.25035826, 2.78072088,        nan,        nan,\n",
              "              nan,        nan, 2.01810624, 1.39579972,        nan,\n",
              "              nan,        nan,        nan,        nan,        nan,\n",
              "              nan,        nan,        nan,        nan, 1.74411645,\n",
              "       5.0099147 , 3.38149142,        nan,        nan,        nan,\n",
              "              nan,        nan,        nan,        nan,        nan,\n",
              "              nan,        nan,        nan,        nan, 3.9963842 ,\n",
              "              nan,        nan, 1.62430288,        nan,        nan,\n",
              "              nan,        nan,        nan,        nan,        nan,\n",
              "              nan, 2.49313696,        nan,        nan,        nan,\n",
              "              nan,        nan,        nan,        nan,        nan,\n",
              "              nan,        nan,        nan,        nan,        nan,\n",
              "              nan, 5.68649353, 2.03096813,        nan,        nan,\n",
              "              nan,        nan,        nan,        nan,        nan,\n",
              "              nan,        nan,        nan,        nan,        nan,\n",
              "              nan,        nan,        nan,        nan,        nan,\n",
              "              nan,        nan,        nan,        nan,        nan,\n",
              "              nan,        nan,        nan,        nan,        nan,\n",
              "              nan,        nan,        nan,        nan,        nan,\n",
              "              nan,        nan,        nan,        nan,        nan,\n",
              "              nan])"
            ]
          },
          "metadata": {},
          "execution_count": 79
        }
      ]
    },
    {
      "cell_type": "code",
      "source": [
        "#cari n\n",
        "m=0\n",
        "k0 = (2*np.pi*frekuensi)/3*np.power(10,8)\n",
        "d_mikrostrip = 0.1 #meter\n",
        "n_im=(ln_e+2*m*np.pi)/k0*d_mikrostrip\n",
        "\n",
        "      \n",
        "print('nilai imaginer : Im ', n_im)"
      ],
      "metadata": {
        "colab": {
          "base_uri": "https://localhost:8080/"
        },
        "id": "aD0Qm56ce4ON",
        "outputId": "f6a3232f-f6d3-4b6b-e346-3b67deaf3f46"
      },
      "execution_count": 82,
      "outputs": [
        {
          "output_type": "stream",
          "name": "stdout",
          "text": [
            "nilai imaginer : Im  [           nan            nan            nan            nan\n",
            "            nan            nan            nan            nan\n",
            "            nan            nan            nan            nan\n",
            "            nan            nan            nan            nan\n",
            "            nan            nan            nan            nan\n",
            "            nan            nan            nan            nan\n",
            "            nan            nan            nan            nan\n",
            "            nan            nan            nan            nan\n",
            "            nan            nan            nan            nan\n",
            "            nan            nan            nan            nan\n",
            "            nan            nan            nan            nan\n",
            "            nan            nan            nan            nan\n",
            "            nan            nan            nan            nan\n",
            "            nan            nan            nan            nan\n",
            "            nan            nan            nan            nan\n",
            "            nan            nan            nan            nan\n",
            "            nan            nan            nan            nan\n",
            "            nan            nan            nan            nan\n",
            "            nan            nan            nan            nan\n",
            "            nan            nan            nan            nan\n",
            "            nan            nan            nan            nan\n",
            "            nan            nan            nan            nan\n",
            "            nan            nan            nan            nan\n",
            "            nan 2.17598873e-19 2.53472982e-19            nan\n",
            "            nan            nan            nan 2.25630324e-19\n",
            "            nan 5.02307423e-19 3.25404066e-19            nan\n",
            "            nan            nan            nan 2.25126951e-19\n",
            " 1.54264811e-19            nan            nan            nan\n",
            "            nan            nan            nan            nan\n",
            "            nan            nan            nan 1.74943909e-19\n",
            " 4.98332972e-19 3.33575144e-19            nan            nan\n",
            "            nan            nan            nan            nan\n",
            "            nan            nan            nan            nan\n",
            "            nan            nan 3.55988369e-19            nan\n",
            "            nan 1.41520825e-19            nan            nan\n",
            "            nan            nan            nan            nan\n",
            "            nan            nan 2.03830257e-19            nan\n",
            "            nan            nan            nan            nan\n",
            "            nan            nan            nan            nan\n",
            "            nan            nan            nan            nan\n",
            "            nan 4.21595652e-19 1.49646191e-19            nan\n",
            "            nan            nan            nan            nan\n",
            "            nan            nan            nan            nan\n",
            "            nan            nan            nan            nan\n",
            "            nan            nan            nan            nan\n",
            "            nan            nan            nan            nan\n",
            "            nan            nan            nan            nan\n",
            "            nan            nan            nan            nan\n",
            "            nan            nan            nan            nan\n",
            "            nan            nan            nan            nan\n",
            "            nan]\n"
          ]
        }
      ]
    },
    {
      "cell_type": "code",
      "source": [
        "n_re = ln_e\n",
        "print ('nilai real : i', n_re)"
      ],
      "metadata": {
        "id": "RVr5QL7Zhsqx",
        "colab": {
          "base_uri": "https://localhost:8080/"
        },
        "outputId": "ae61f6a2-59ee-4022-f43b-59c31022dd42"
      },
      "execution_count": 84,
      "outputs": [
        {
          "output_type": "stream",
          "name": "stdout",
          "text": [
            "nilai real : i [       nan        nan        nan        nan        nan        nan\n",
            "        nan        nan        nan        nan        nan        nan\n",
            "        nan        nan        nan        nan        nan        nan\n",
            "        nan        nan        nan        nan        nan        nan\n",
            "        nan        nan        nan        nan        nan        nan\n",
            "        nan        nan        nan        nan        nan        nan\n",
            "        nan        nan        nan        nan        nan        nan\n",
            "        nan        nan        nan        nan        nan        nan\n",
            "        nan        nan        nan        nan        nan        nan\n",
            "        nan        nan        nan        nan        nan        nan\n",
            "        nan        nan        nan        nan        nan        nan\n",
            "        nan        nan        nan        nan        nan        nan\n",
            "        nan        nan        nan        nan        nan        nan\n",
            "        nan        nan        nan        nan        nan        nan\n",
            "        nan        nan        nan        nan        nan        nan\n",
            "        nan        nan        nan 1.69541856 1.99616528        nan\n",
            "        nan        nan        nan 1.87140542        nan 4.25035826\n",
            " 2.78072088        nan        nan        nan        nan 2.01810624\n",
            " 1.39579972        nan        nan        nan        nan        nan\n",
            "        nan        nan        nan        nan        nan 1.74411645\n",
            " 5.0099147  3.38149142        nan        nan        nan        nan\n",
            "        nan        nan        nan        nan        nan        nan\n",
            "        nan        nan 3.9963842         nan        nan 1.62430288\n",
            "        nan        nan        nan        nan        nan        nan\n",
            "        nan        nan 2.49313696        nan        nan        nan\n",
            "        nan        nan        nan        nan        nan        nan\n",
            "        nan        nan        nan        nan        nan 5.68649353\n",
            " 2.03096813        nan        nan        nan        nan        nan\n",
            "        nan        nan        nan        nan        nan        nan\n",
            "        nan        nan        nan        nan        nan        nan\n",
            "        nan        nan        nan        nan        nan        nan\n",
            "        nan        nan        nan        nan        nan        nan\n",
            "        nan        nan        nan        nan        nan        nan\n",
            "        nan        nan        nan]\n"
          ]
        }
      ]
    },
    {
      "cell_type": "markdown",
      "source": [
        "Mencari nilai epsilon"
      ],
      "metadata": {
        "id": "vGA_kbPL7Gyq"
      }
    },
    {
      "cell_type": "code",
      "source": [
        "eps_im = n_im/z\n",
        "print('nilai epsilon imaginer :', eps_im)\n",
        "\n",
        "eps_re = n_re/z\n",
        "print('nilai epsilon real : ', eps_re)"
      ],
      "metadata": {
        "colab": {
          "base_uri": "https://localhost:8080/"
        },
        "id": "J5ddovCH7Kuh",
        "outputId": "117964e4-d16d-49b7-d34d-f6076b66bbbd"
      },
      "execution_count": 86,
      "outputs": [
        {
          "output_type": "stream",
          "name": "stdout",
          "text": [
            "nilai epsilon imaginer : [           nan            nan            nan            nan\n",
            "            nan            nan            nan            nan\n",
            "            nan            nan            nan            nan\n",
            "            nan            nan            nan            nan\n",
            "            nan            nan            nan            nan\n",
            "            nan            nan            nan            nan\n",
            "            nan            nan            nan            nan\n",
            "            nan            nan            nan            nan\n",
            "            nan            nan            nan            nan\n",
            "            nan            nan            nan            nan\n",
            "            nan            nan            nan            nan\n",
            "            nan            nan            nan            nan\n",
            "            nan            nan            nan            nan\n",
            "            nan            nan            nan            nan\n",
            "            nan            nan            nan            nan\n",
            "            nan            nan            nan            nan\n",
            "            nan            nan            nan            nan\n",
            "            nan            nan            nan            nan\n",
            "            nan            nan            nan            nan\n",
            "            nan            nan            nan            nan\n",
            "            nan            nan            nan            nan\n",
            "            nan            nan            nan            nan\n",
            "            nan            nan            nan            nan\n",
            "            nan 4.97245746e-19 5.16247426e-19            nan\n",
            "            nan            nan            nan 4.78978114e-19\n",
            "            nan 7.95899955e-19 5.64143989e-19            nan\n",
            "            nan            nan            nan 4.44753088e-19\n",
            " 3.88416826e-19            nan            nan            nan\n",
            "            nan            nan            nan            nan\n",
            "            nan            nan            nan 3.30240342e-19\n",
            " 6.50101486e-19 4.50817448e-19            nan            nan\n",
            "            nan            nan            nan            nan\n",
            "            nan            nan            nan            nan\n",
            "            nan            nan 4.54459049e-19            nan\n",
            "            nan 2.71161194e-19            nan            nan\n",
            "            nan            nan            nan            nan\n",
            "            nan            nan 3.22699425e-19            nan\n",
            "            nan            nan            nan            nan\n",
            "            nan            nan            nan            nan\n",
            "            nan            nan            nan            nan\n",
            "            nan 5.38981942e-19 2.45393020e-19            nan\n",
            "            nan            nan            nan            nan\n",
            "            nan            nan            nan            nan\n",
            "            nan            nan            nan            nan\n",
            "            nan            nan            nan            nan\n",
            "            nan            nan            nan            nan\n",
            "            nan            nan            nan            nan\n",
            "            nan            nan            nan            nan\n",
            "            nan            nan            nan            nan\n",
            "            nan            nan            nan            nan\n",
            "            nan]\n",
            "nilai epsilon real :  [       nan        nan        nan        nan        nan        nan\n",
            "        nan        nan        nan        nan        nan        nan\n",
            "        nan        nan        nan        nan        nan        nan\n",
            "        nan        nan        nan        nan        nan        nan\n",
            "        nan        nan        nan        nan        nan        nan\n",
            "        nan        nan        nan        nan        nan        nan\n",
            "        nan        nan        nan        nan        nan        nan\n",
            "        nan        nan        nan        nan        nan        nan\n",
            "        nan        nan        nan        nan        nan        nan\n",
            "        nan        nan        nan        nan        nan        nan\n",
            "        nan        nan        nan        nan        nan        nan\n",
            "        nan        nan        nan        nan        nan        nan\n",
            "        nan        nan        nan        nan        nan        nan\n",
            "        nan        nan        nan        nan        nan        nan\n",
            "        nan        nan        nan        nan        nan        nan\n",
            "        nan        nan        nan 3.87428323 4.06558198        nan\n",
            "        nan        nan        nan 3.97270287        nan 6.73464057\n",
            " 4.82085855        nan        nan        nan        nan 3.98690153\n",
            " 3.51442491        nan        nan        nan        nan        nan\n",
            "        nan        nan        nan        nan        nan 3.29235591\n",
            " 6.53569635 4.56999079        nan        nan        nan        nan\n",
            "        nan        nan        nan        nan        nan        nan\n",
            "        nan        nan 5.10183231        nan        nan 3.11224802\n",
            "        nan        nan        nan        nan        nan        nan\n",
            "        nan        nan 3.9470777         nan        nan        nan\n",
            "        nan        nan        nan        nan        nan        nan\n",
            "        nan        nan        nan        nan        nan 7.26980298\n",
            " 3.3304249         nan        nan        nan        nan        nan\n",
            "        nan        nan        nan        nan        nan        nan\n",
            "        nan        nan        nan        nan        nan        nan\n",
            "        nan        nan        nan        nan        nan        nan\n",
            "        nan        nan        nan        nan        nan        nan\n",
            "        nan        nan        nan        nan        nan        nan\n",
            "        nan        nan        nan]\n"
          ]
        }
      ]
    },
    {
      "cell_type": "markdown",
      "source": [
        "Mencari nilai Miu"
      ],
      "metadata": {
        "id": "Evwn5QvT7UNc"
      }
    },
    {
      "cell_type": "code",
      "source": [
        "\n",
        "miu_im = n_im*z\n",
        "print('nilai miu imaginer :', miu_im)\n",
        "\n",
        "miu_re = n_re*z\n",
        "print('nilai miu real : ', miu_re)"
      ],
      "metadata": {
        "colab": {
          "base_uri": "https://localhost:8080/"
        },
        "id": "hECOSIi57Wb9",
        "outputId": "6521f94e-7095-457b-dddf-d1fd5651a566"
      },
      "execution_count": 88,
      "outputs": [
        {
          "output_type": "stream",
          "name": "stdout",
          "text": [
            "nilai miu imaginer : [           nan            nan            nan            nan\n",
            "            nan            nan            nan            nan\n",
            "            nan            nan            nan            nan\n",
            "            nan            nan            nan            nan\n",
            "            nan            nan            nan            nan\n",
            "            nan            nan            nan            nan\n",
            "            nan            nan            nan            nan\n",
            "            nan            nan            nan            nan\n",
            "            nan            nan            nan            nan\n",
            "            nan            nan            nan            nan\n",
            "            nan            nan            nan            nan\n",
            "            nan            nan            nan            nan\n",
            "            nan            nan            nan            nan\n",
            "            nan            nan            nan            nan\n",
            "            nan            nan            nan            nan\n",
            "            nan            nan            nan            nan\n",
            "            nan            nan            nan            nan\n",
            "            nan            nan            nan            nan\n",
            "            nan            nan            nan            nan\n",
            "            nan            nan            nan            nan\n",
            "            nan            nan            nan            nan\n",
            "            nan            nan            nan            nan\n",
            "            nan            nan            nan            nan\n",
            "            nan 9.52230764e-20 1.24453023e-19            nan\n",
            "            nan            nan            nan 1.06286784e-19\n",
            "            nan 3.17015657e-19 1.87696418e-19            nan\n",
            "            nan            nan            nan 1.13955687e-19\n",
            " 6.12682830e-20            nan            nan            nan\n",
            "            nan            nan            nan            nan\n",
            "            nan            nan            nan 9.26760527e-20\n",
            " 3.81995359e-19 2.46823581e-19            nan            nan\n",
            "            nan            nan            nan            nan\n",
            "            nan            nan            nan            nan\n",
            "            nan            nan 2.78853989e-19            nan\n",
            "            nan 7.38606569e-20            nan            nan\n",
            "            nan            nan            nan            nan\n",
            "            nan            nan 1.28747592e-19            nan\n",
            "            nan            nan            nan            nan\n",
            "            nan            nan            nan            nan\n",
            "            nan            nan            nan            nan\n",
            "            nan 3.29775229e-19 9.12576183e-20            nan\n",
            "            nan            nan            nan            nan\n",
            "            nan            nan            nan            nan\n",
            "            nan            nan            nan            nan\n",
            "            nan            nan            nan            nan\n",
            "            nan            nan            nan            nan\n",
            "            nan            nan            nan            nan\n",
            "            nan            nan            nan            nan\n",
            "            nan            nan            nan            nan\n",
            "            nan            nan            nan            nan\n",
            "            nan]\n",
            "nilai miu real :  [       nan        nan        nan        nan        nan        nan\n",
            "        nan        nan        nan        nan        nan        nan\n",
            "        nan        nan        nan        nan        nan        nan\n",
            "        nan        nan        nan        nan        nan        nan\n",
            "        nan        nan        nan        nan        nan        nan\n",
            "        nan        nan        nan        nan        nan        nan\n",
            "        nan        nan        nan        nan        nan        nan\n",
            "        nan        nan        nan        nan        nan        nan\n",
            "        nan        nan        nan        nan        nan        nan\n",
            "        nan        nan        nan        nan        nan        nan\n",
            "        nan        nan        nan        nan        nan        nan\n",
            "        nan        nan        nan        nan        nan        nan\n",
            "        nan        nan        nan        nan        nan        nan\n",
            "        nan        nan        nan        nan        nan        nan\n",
            "        nan        nan        nan        nan        nan        nan\n",
            "        nan        nan        nan 0.74192926 0.98009974        nan\n",
            "        nan        nan        nan 0.88155554        nan 2.682481\n",
            " 1.60394846        nan        nan        nan        nan 1.02153333\n",
            " 0.55436007        nan        nan        nan        nan        nan\n",
            "        nan        nan        nan        nan        nan 0.92394087\n",
            " 3.84033221 2.50208037        nan        nan        nan        nan\n",
            "        nan        nan        nan        nan        nan        nan\n",
            "        nan        nan 3.13046092        nan        nan 0.84773444\n",
            "        nan        nan        nan        nan        nan        nan\n",
            "        nan        nan 1.57476806        nan        nan        nan\n",
            "        nan        nan        nan        nan        nan        nan\n",
            "        nan        nan        nan        nan        nan 4.44801719\n",
            " 1.23853011        nan        nan        nan        nan        nan\n",
            "        nan        nan        nan        nan        nan        nan\n",
            "        nan        nan        nan        nan        nan        nan\n",
            "        nan        nan        nan        nan        nan        nan\n",
            "        nan        nan        nan        nan        nan        nan\n",
            "        nan        nan        nan        nan        nan        nan\n",
            "        nan        nan        nan]\n"
          ]
        }
      ]
    },
    {
      "cell_type": "markdown",
      "source": [
        "**PLOT KURVA**"
      ],
      "metadata": {
        "id": "TihzpShdjfDK"
      }
    },
    {
      "cell_type": "markdown",
      "source": [],
      "metadata": {
        "id": "KP3Jvv5bje9Z"
      }
    },
    {
      "cell_type": "code",
      "source": [
        "plt.plot(frekuensi, eps_im, color='violet')\n",
        "plt.title(\"KURVA FREKUENSI DAN EPSILON IMAGINER\", fontsize=20)\n",
        "plt.xlabel('Frekuensi', fontsize=14, color='black')\n",
        "plt.ylabel('Epsilon imaginer', fontsize=14, color='black')\n",
        "plt.grid (True)\n",
        "plt.show()"
      ],
      "metadata": {
        "id": "j1137acWe3n-",
        "colab": {
          "base_uri": "https://localhost:8080/",
          "height": 304
        },
        "outputId": "5988a4d5-3579-420d-e2e6-e565102f81a3"
      },
      "execution_count": 91,
      "outputs": [
        {
          "output_type": "display_data",
          "data": {
            "text/plain": [
              "<Figure size 432x288 with 1 Axes>"
            ],
            "image/png": "[encoded data removed]"
          },
          "metadata": {
            "needs_background": "light"
          }
        }
      ]
    },
    {
      "cell_type": "code",
      "source": [
        "plt.plot(frekuensi, eps_re, color='violet')\n",
        "plt.title(\"KURVA FREKUENSI DAN EPSILON REAL\", fontsize=20)\n",
        "plt.xlabel('Frekuensi', fontsize=14, color='black')\n",
        "plt.ylabel('Epsilon real', fontsize=14, color='black')\n",
        "plt.grid (True)\n",
        "plt.show()"
      ],
      "metadata": {
        "colab": {
          "base_uri": "https://localhost:8080/",
          "height": 304
        },
        "id": "7m33hGo_NyXb",
        "outputId": "64bca450-74fc-4b79-839d-28c3558ac25e"
      },
      "execution_count": 92,
      "outputs": [
        {
          "output_type": "display_data",
          "data": {
            "text/plain": [
              "<Figure size 432x288 with 1 Axes>"
            ],
            "image/png": "[encoded data removed]"
          },
          "metadata": {
            "needs_background": "light"
          }
        }
      ]
    },
    {
      "cell_type": "code",
      "source": [
        "plt.plot(frekuensi, miu_im, color='violet')\n",
        "plt.title(\"KURVA FREKUENSI DAN MIU IMAGINER\", fontsize=20)\n",
        "plt.xlabel('Frekuensi', fontsize=14, color='black')\n",
        "plt.ylabel('Miu imaginer', fontsize=14, color='black')\n",
        "plt.grid (True)\n",
        "plt.show()"
      ],
      "metadata": {
        "colab": {
          "base_uri": "https://localhost:8080/",
          "height": 304
        },
        "id": "We7XsHbROFyd",
        "outputId": "7a52a578-1d7f-4f99-9b9a-c23252ec9141"
      },
      "execution_count": 93,
      "outputs": [
        {
          "output_type": "display_data",
          "data": {
            "text/plain": [
              "<Figure size 432x288 with 1 Axes>"
            ],
            "image/png": "[encoded data removed]"
          },
          "metadata": {
            "needs_background": "light"
          }
        }
      ]
    },
    {
      "cell_type": "code",
      "source": [
        "plt.plot(frekuensi, eps_re, color='violet')\n",
        "plt.title(\"KURVA FREKUENSI DAN MIU REAL\", fontsize=20)\n",
        "plt.xlabel('Frekuensi', fontsize=14, color='black')\n",
        "plt.ylabel('Miu real', fontsize=14, color='black')\n",
        "plt.grid (True)\n",
        "plt.show()"
      ],
      "metadata": {
        "colab": {
          "base_uri": "https://localhost:8080/",
          "height": 304
        },
        "id": "4cwZHbDXOU_l",
        "outputId": "70925e92-189e-4c85-87dd-a35f473b15aa"
      },
      "execution_count": 94,
      "outputs": [
        {
          "output_type": "display_data",
          "data": {
            "text/plain": [
              "<Figure size 432x288 with 1 Axes>"
            ],
            "image/png": "[encoded data removed]"
          },
          "metadata": {
            "needs_background": "light"
          }
        }
      ]
    },
    {
      "cell_type": "code",
      "source": [],
      "metadata": {
        "id": "vqvjVZ3iOby2"
      },
      "execution_count": null,
      "outputs": []
    }
  ]
}