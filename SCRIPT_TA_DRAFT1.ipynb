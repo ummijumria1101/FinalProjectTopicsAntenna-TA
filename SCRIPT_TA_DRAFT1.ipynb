{
  "nbformat": 4,
  "nbformat_minor": 0,
  "metadata": {
    "colab": {
      "provenance": [],
      "mount_file_id": "1D9lVE5VCkpeNR_YcsuFNdBBKFgvy2-b_",
      "authorship_tag": "ABX9TyMtblvND9dM8kKT/HFJiQOx",
      "include_colab_link": true
    },
    "kernelspec": {
      "name": "python3",
      "display_name": "Python 3"
    },
    "language_info": {
      "name": "python"
    }
  },
  "cells": [
    {
      "cell_type": "markdown",
      "metadata": {
        "id": "view-in-github",
        "colab_type": "text"
      },
      "source": [
        "<a href=\"https://colab.research.google.com/github/ummijumria1101/FinalProjectTopicsAntenna-TA/blob/main/SCRIPT_TA_DRAFT1.ipynb\" target=\"_parent\"><img src=\"https://colab.research.google.com/assets/colab-badge.svg\" alt=\"Open In Colab\"/></a>"
      ]
    },
    {
      "cell_type": "code",
      "source": [
        "#from google.colab import drive\n",
        "\n",
        "#drive.mount('/content/drive/')\n"
      ],
      "metadata": {
        "id": "238a90utJNgE"
      },
      "execution_count": 1,
      "outputs": []
    },
    {
      "cell_type": "code",
      "source": [
        "import os\n",
        "\n",
        "os.chdir('/content/drive/MyDrive')\n",
        "os.listdir ('TA')"
      ],
      "metadata": {
        "colab": {
          "base_uri": "https://localhost:8080/"
        },
        "id": "EsvLP1F2RJfT",
        "outputId": "abde6c85-4e1c-469f-8215-c29c22b68101"
      },
      "execution_count": 2,
      "outputs": [
        {
          "output_type": "execute_result",
          "data": {
            "text/plain": [
              "['datapengukuran.csv']"
            ]
          },
          "metadata": {},
          "execution_count": 2
        }
      ]
    },
    {
      "cell_type": "code",
      "source": [
        "import pandas as pd\n",
        "import math as m\n",
        "import matplotlib.pyplot as plt\n"
      ],
      "metadata": {
        "id": "jS4iqSe5J0iV"
      },
      "execution_count": 3,
      "outputs": []
    },
    {
      "cell_type": "code",
      "source": [
        "s22 = pd.read_csv('/content/drive/MyDrive/TA/datapengukuran.csv')\n",
        "s22"
      ],
      "metadata": {
        "colab": {
          "base_uri": "https://localhost:8080/",
          "height": 655
        },
        "id": "GyKKrhg2RnwA",
        "outputId": "86d9a612-b1ca-4328-c0df-54703fa5043b"
      },
      "execution_count": 4,
      "outputs": [
        {
          "output_type": "execute_result",
          "data": {
            "text/plain": [
              "                Unnamed: 0     Unnamed: 1  Unnamed: 2  Unnamed: 3  Frequency  \\\n",
              "0    150000000000000000000  -333703989595         0.0         NaN     1.5000   \n",
              "1    153250000000000000000  -505933985038         0.0         NaN     1.5325   \n",
              "2    156500000000000000000  -856388833323         0.0         NaN     1.5650   \n",
              "3    159750000000000000000 -1253396219640         0.0         NaN     1.5975   \n",
              "4    163000000000000000000 -1240970399410         0.0         NaN     1.6300   \n",
              "..                     ...            ...         ...         ...        ...   \n",
              "196  787000000000000000000  -944146786541         0.0         NaN     7.8700   \n",
              "197  790250000000000000000  -958864664344         0.0         NaN     7.9025   \n",
              "198  793500000000000000000 -1033965902160         0.0         NaN     7.9350   \n",
              "199  796750000000000000000 -1171585633140         0.0         NaN     7.9675   \n",
              "200  800000000000000000000 -1359039511590         0.0         NaN     8.0000   \n",
              "\n",
              "           S11  \n",
              "0    -3.337040  \n",
              "1    -5.059340  \n",
              "2    -8.563888  \n",
              "3   -12.533962  \n",
              "4   -12.409704  \n",
              "..         ...  \n",
              "196  -9.441468  \n",
              "197  -9.588647  \n",
              "198 -10.339659  \n",
              "199 -11.715856  \n",
              "200 -13.590395  \n",
              "\n",
              "[201 rows x 6 columns]"
            ],
            "text/html": [
              "\n",
              "  <div id=\"df-b7472760-c31a-49d7-bdf7-33e6466f9798\">\n",
              "    <div class=\"colab-df-container\">\n",
              "      <div>\n",
              "<style scoped>\n",
              "    .dataframe tbody tr th:only-of-type {\n",
              "        vertical-align: middle;\n",
              "    }\n",
              "\n",
              "    .dataframe tbody tr th {\n",
              "        vertical-align: top;\n",
              "    }\n",
              "\n",
              "    .dataframe thead th {\n",
              "        text-align: right;\n",
              "    }\n",
              "</style>\n",
              "<table border=\"1\" class=\"dataframe\">\n",
              "  <thead>\n",
              "    <tr style=\"text-align: right;\">\n",
              "      <th></th>\n",
              "      <th>Unnamed: 0</th>\n",
              "      <th>Unnamed: 1</th>\n",
              "      <th>Unnamed: 2</th>\n",
              "      <th>Unnamed: 3</th>\n",
              "      <th>Frequency</th>\n",
              "      <th>S11</th>\n",
              "    </tr>\n",
              "  </thead>\n",
              "  <tbody>\n",
              "    <tr>\n",
              "      <th>0</th>\n",
              "      <td>150000000000000000000</td>\n",
              "      <td>-333703989595</td>\n",
              "      <td>0.0</td>\n",
              "      <td>NaN</td>\n",
              "      <td>1.5000</td>\n",
              "      <td>-3.337040</td>\n",
              "    </tr>\n",
              "    <tr>\n",
              "      <th>1</th>\n",
              "      <td>153250000000000000000</td>\n",
              "      <td>-505933985038</td>\n",
              "      <td>0.0</td>\n",
              "      <td>NaN</td>\n",
              "      <td>1.5325</td>\n",
              "      <td>-5.059340</td>\n",
              "    </tr>\n",
              "    <tr>\n",
              "      <th>2</th>\n",
              "      <td>156500000000000000000</td>\n",
              "      <td>-856388833323</td>\n",
              "      <td>0.0</td>\n",
              "      <td>NaN</td>\n",
              "      <td>1.5650</td>\n",
              "      <td>-8.563888</td>\n",
              "    </tr>\n",
              "    <tr>\n",
              "      <th>3</th>\n",
              "      <td>159750000000000000000</td>\n",
              "      <td>-1253396219640</td>\n",
              "      <td>0.0</td>\n",
              "      <td>NaN</td>\n",
              "      <td>1.5975</td>\n",
              "      <td>-12.533962</td>\n",
              "    </tr>\n",
              "    <tr>\n",
              "      <th>4</th>\n",
              "      <td>163000000000000000000</td>\n",
              "      <td>-1240970399410</td>\n",
              "      <td>0.0</td>\n",
              "      <td>NaN</td>\n",
              "      <td>1.6300</td>\n",
              "      <td>-12.409704</td>\n",
              "    </tr>\n",
              "    <tr>\n",
              "      <th>...</th>\n",
              "      <td>...</td>\n",
              "      <td>...</td>\n",
              "      <td>...</td>\n",
              "      <td>...</td>\n",
              "      <td>...</td>\n",
              "      <td>...</td>\n",
              "    </tr>\n",
              "    <tr>\n",
              "      <th>196</th>\n",
              "      <td>787000000000000000000</td>\n",
              "      <td>-944146786541</td>\n",
              "      <td>0.0</td>\n",
              "      <td>NaN</td>\n",
              "      <td>7.8700</td>\n",
              "      <td>-9.441468</td>\n",
              "    </tr>\n",
              "    <tr>\n",
              "      <th>197</th>\n",
              "      <td>790250000000000000000</td>\n",
              "      <td>-958864664344</td>\n",
              "      <td>0.0</td>\n",
              "      <td>NaN</td>\n",
              "      <td>7.9025</td>\n",
              "      <td>-9.588647</td>\n",
              "    </tr>\n",
              "    <tr>\n",
              "      <th>198</th>\n",
              "      <td>793500000000000000000</td>\n",
              "      <td>-1033965902160</td>\n",
              "      <td>0.0</td>\n",
              "      <td>NaN</td>\n",
              "      <td>7.9350</td>\n",
              "      <td>-10.339659</td>\n",
              "    </tr>\n",
              "    <tr>\n",
              "      <th>199</th>\n",
              "      <td>796750000000000000000</td>\n",
              "      <td>-1171585633140</td>\n",
              "      <td>0.0</td>\n",
              "      <td>NaN</td>\n",
              "      <td>7.9675</td>\n",
              "      <td>-11.715856</td>\n",
              "    </tr>\n",
              "    <tr>\n",
              "      <th>200</th>\n",
              "      <td>800000000000000000000</td>\n",
              "      <td>-1359039511590</td>\n",
              "      <td>0.0</td>\n",
              "      <td>NaN</td>\n",
              "      <td>8.0000</td>\n",
              "      <td>-13.590395</td>\n",
              "    </tr>\n",
              "  </tbody>\n",
              "</table>\n",
              "<p>201 rows × 6 columns</p>\n",
              "</div>\n",
              "      <button class=\"colab-df-convert\" onclick=\"convertToInteractive('df-b7472760-c31a-49d7-bdf7-33e6466f9798')\"\n",
              "              title=\"Convert this dataframe to an interactive table.\"\n",
              "              style=\"display:none;\">\n",
              "        \n",
              "  <svg xmlns=\"http://www.w3.org/2000/svg\" height=\"24px\"viewBox=\"0 0 24 24\"\n",
              "       width=\"24px\">\n",
              "    <path d=\"M0 0h24v24H0V0z\" fill=\"none\"/>\n",
              "    <path d=\"M18.56 5.44l.94 2.06.94-2.06 2.06-.94-2.06-.94-.94-2.06-.94 2.06-2.06.94zm-11 1L8.5 8.5l.94-2.06 2.06-.94-2.06-.94L8.5 2.5l-.94 2.06-2.06.94zm10 10l.94 2.06.94-2.06 2.06-.94-2.06-.94-.94-2.06-.94 2.06-2.06.94z\"/><path d=\"M17.41 7.96l-1.37-1.37c-.4-.4-.92-.59-1.43-.59-.52 0-1.04.2-1.43.59L10.3 9.45l-7.72 7.72c-.78.78-.78 2.05 0 2.83L4 21.41c.39.39.9.59 1.41.59.51 0 1.02-.2 1.41-.59l7.78-7.78 2.81-2.81c.8-.78.8-2.07 0-2.86zM5.41 20L4 18.59l7.72-7.72 1.47 1.35L5.41 20z\"/>\n",
              "  </svg>\n",
              "      </button>\n",
              "      \n",
              "  <style>\n",
              "    .colab-df-container {\n",
              "      display:flex;\n",
              "      flex-wrap:wrap;\n",
              "      gap: 12px;\n",
              "    }\n",
              "\n",
              "    .colab-df-convert {\n",
              "      background-color: #E8F0FE;\n",
              "      border: none;\n",
              "      border-radius: 50%;\n",
              "      cursor: pointer;\n",
              "      display: none;\n",
              "      fill: #1967D2;\n",
              "      height: 32px;\n",
              "      padding: 0 0 0 0;\n",
              "      width: 32px;\n",
              "    }\n",
              "\n",
              "    .colab-df-convert:hover {\n",
              "      background-color: #E2EBFA;\n",
              "      box-shadow: 0px 1px 2px rgba(60, 64, 67, 0.3), 0px 1px 3px 1px rgba(60, 64, 67, 0.15);\n",
              "      fill: #174EA6;\n",
              "    }\n",
              "\n",
              "    [theme=dark] .colab-df-convert {\n",
              "      background-color: #3B4455;\n",
              "      fill: #D2E3FC;\n",
              "    }\n",
              "\n",
              "    [theme=dark] .colab-df-convert:hover {\n",
              "      background-color: #434B5C;\n",
              "      box-shadow: 0px 1px 3px 1px rgba(0, 0, 0, 0.15);\n",
              "      filter: drop-shadow(0px 1px 2px rgba(0, 0, 0, 0.3));\n",
              "      fill: #FFFFFF;\n",
              "    }\n",
              "  </style>\n",
              "\n",
              "      <script>\n",
              "        const buttonEl =\n",
              "          document.querySelector('#df-b7472760-c31a-49d7-bdf7-33e6466f9798 button.colab-df-convert');\n",
              "        buttonEl.style.display =\n",
              "          google.colab.kernel.accessAllowed ? 'block' : 'none';\n",
              "\n",
              "        async function convertToInteractive(key) {\n",
              "          const element = document.querySelector('#df-b7472760-c31a-49d7-bdf7-33e6466f9798');\n",
              "          const dataTable =\n",
              "            await google.colab.kernel.invokeFunction('convertToInteractive',\n",
              "                                                     [key], {});\n",
              "          if (!dataTable) return;\n",
              "\n",
              "          const docLinkHtml = 'Like what you see? Visit the ' +\n",
              "            '<a target=\"_blank\" href=https://colab.research.google.com/notebooks/data_table.ipynb>data table notebook</a>'\n",
              "            + ' to learn more about interactive tables.';\n",
              "          element.innerHTML = '';\n",
              "          dataTable['output_type'] = 'display_data';\n",
              "          await google.colab.output.renderOutput(dataTable, element);\n",
              "          const docLink = document.createElement('div');\n",
              "          docLink.innerHTML = docLinkHtml;\n",
              "          element.appendChild(docLink);\n",
              "        }\n",
              "      </script>\n",
              "    </div>\n",
              "  </div>\n",
              "  "
            ]
          },
          "metadata": {},
          "execution_count": 4
        }
      ]
    },
    {
      "cell_type": "code",
      "source": [
        "x_s22 = s22.Frequency\n",
        "y_s22 = s22.S11"
      ],
      "metadata": {
        "id": "PQfoZBMDLQsA"
      },
      "execution_count": 5,
      "outputs": []
    },
    {
      "cell_type": "code",
      "source": [
        "plt.plot(x_s22, y_s22, color='blue')\n",
        "plt.title(\"KURVA FREKUENSI\", fontsize=20)\n",
        "plt.xlabel('Frekuensi', fontsize=14, color='black')\n",
        "plt.ylabel('S11', fontsize=14, color='black')\n",
        "plt.grid (True)\n",
        "plt.show()"
      ],
      "metadata": {
        "colab": {
          "base_uri": "https://localhost:8080/",
          "height": 304
        },
        "id": "f8W0Do1SU90t",
        "outputId": "37ef6b5d-981a-41f9-eeb6-afb4bf6a4532"
      },
      "execution_count": 38,
      "outputs": [
        {
          "output_type": "display_data",
          "data": {
            "text/plain": [
              "<Figure size 432x288 with 1 Axes>"
            ],
            "image/png": "[encoded data removed]"
          },
          "metadata": {
            "needs_background": "light"
          }
        }
      ]
    },
    {
      "cell_type": "code",
      "source": [
        "import numpy as np"
      ],
      "metadata": {
        "id": "OhiDdDJ1dnsg"
      },
      "execution_count": 49,
      "outputs": []
    },
    {
      "cell_type": "code",
      "source": [
        "frekuensi = np.array(x_s22)\n",
        "frekuensi"
      ],
      "metadata": {
        "colab": {
          "base_uri": "https://localhost:8080/"
        },
        "id": "Om0cOHMCdyc0",
        "outputId": "a3bfa3e7-8f62-4fd6-e470-7b5d6df5f644"
      },
      "execution_count": 53,
      "outputs": [
        {
          "output_type": "execute_result",
          "data": {
            "text/plain": [
              "array([1.5   , 1.5325, 1.565 , 1.5975, 1.63  , 1.6625, 1.695 , 1.7275,\n",
              "       1.76  , 1.7925, 1.825 , 1.8575, 1.89  , 1.9225, 1.955 , 1.9875,\n",
              "       2.02  , 2.0525, 2.085 , 2.1175, 2.15  , 2.1825, 2.215 , 2.2475,\n",
              "       2.28  , 2.3125, 2.345 , 2.3775, 2.41  , 2.4425, 2.475 , 2.5075,\n",
              "       2.54  , 2.5725, 2.605 , 2.6375, 2.67  , 2.7025, 2.735 , 2.7675,\n",
              "       2.8   , 2.8325, 2.865 , 2.8975, 2.93  , 2.9625, 2.995 , 3.0275,\n",
              "       3.06  , 3.0925, 3.125 , 3.1575, 3.19  , 3.2225, 3.255 , 3.2875,\n",
              "       3.32  , 3.3525, 3.385 , 3.4175, 3.45  , 3.4825, 3.515 , 3.5475,\n",
              "       3.58  , 3.6125, 3.645 , 3.6775, 3.71  , 3.7425, 3.775 , 3.8075,\n",
              "       3.84  , 3.8725, 3.905 , 3.9375, 3.97  , 4.0025, 4.035 , 4.0675,\n",
              "       4.1   , 4.1325, 4.165 , 4.1975, 4.23  , 4.2625, 4.295 , 4.3275,\n",
              "       4.36  , 4.3925, 4.425 , 4.4575, 4.49  , 4.5225, 4.555 , 4.5875,\n",
              "       4.62  , 4.6525, 4.685 , 4.7175, 4.75  , 4.7825, 4.815 , 4.8475,\n",
              "       4.88  , 4.9125, 4.945 , 4.9775, 5.01  , 5.0425, 5.075 , 5.1075,\n",
              "       5.14  , 5.1725, 5.205 , 5.2375, 5.27  , 5.3025, 5.335 , 5.3675,\n",
              "       5.4   , 5.4325, 5.465 , 5.4975, 5.53  , 5.5625, 5.595 , 5.6275,\n",
              "       5.66  , 5.6925, 5.725 , 5.7575, 5.79  , 5.8225, 5.855 , 5.8875,\n",
              "       5.92  , 5.9525, 5.985 , 6.0175, 6.05  , 6.0825, 6.115 , 6.1475,\n",
              "       6.18  , 6.2125, 6.245 , 6.2775, 6.31  , 6.3425, 6.375 , 6.4075,\n",
              "       6.44  , 6.4725, 6.505 , 6.5375, 6.57  , 6.6025, 6.635 , 6.6675,\n",
              "       6.7   , 6.7325, 6.765 , 6.7975, 6.83  , 6.8625, 6.895 , 6.9275,\n",
              "       6.96  , 6.9925, 7.025 , 7.0575, 7.09  , 7.1225, 7.155 , 7.1875,\n",
              "       7.22  , 7.2525, 7.285 , 7.3175, 7.35  , 7.3825, 7.415 , 7.4475,\n",
              "       7.48  , 7.5125, 7.545 , 7.5775, 7.61  , 7.6425, 7.675 , 7.7075,\n",
              "       7.74  , 7.7725, 7.805 , 7.8375, 7.87  , 7.9025, 7.935 , 7.9675,\n",
              "       8.    ])"
            ]
          },
          "metadata": {},
          "execution_count": 53
        }
      ]
    },
    {
      "cell_type": "code",
      "source": [
        "len(frekuensi)"
      ],
      "metadata": {
        "colab": {
          "base_uri": "https://localhost:8080/"
        },
        "id": "NE002021eLPl",
        "outputId": "ee606ceb-6d58-4549-9b5d-b4add3ef12d5"
      },
      "execution_count": 54,
      "outputs": [
        {
          "output_type": "execute_result",
          "data": {
            "text/plain": [
              "201"
            ]
          },
          "metadata": {},
          "execution_count": 54
        }
      ]
    },
    {
      "cell_type": "code",
      "source": [
        "s11 = np.array(y_s22)\n",
        "len(s11)"
      ],
      "metadata": {
        "colab": {
          "base_uri": "https://localhost:8080/"
        },
        "id": "KJpVHxr5eNsL",
        "outputId": "f94887e1-d376-42d7-b9ef-b0880eb2c615"
      },
      "execution_count": 56,
      "outputs": [
        {
          "output_type": "execute_result",
          "data": {
            "text/plain": [
              "201"
            ]
          },
          "metadata": {},
          "execution_count": 56
        }
      ]
    },
    {
      "cell_type": "code",
      "source": [
        "  #menjumlahkan frekuensi dan s11\n",
        "  result = np.add(frekuensi, s11)\n",
        "  result"
      ],
      "metadata": {
        "colab": {
          "base_uri": "https://localhost:8080/"
        },
        "id": "llMziUmUeYBr",
        "outputId": "477c1e3c-e1c4-4e2c-e442-55de237551b1"
      },
      "execution_count": 68,
      "outputs": [
        {
          "output_type": "execute_result",
          "data": {
            "text/plain": [
              "array([-1.83703990e+00, -3.52683985e+00, -6.99888833e+00, -1.09364622e+01,\n",
              "       -1.07797040e+01, -9.43625323e+00, -8.46138042e+00, -5.51044360e+00,\n",
              "       -2.60243257e+00, -1.76227349e+00, -1.86693184e+00, -2.44536087e+00,\n",
              "       -3.55760056e+00, -5.57465364e+00, -8.79416281e+00, -1.07599581e+01,\n",
              "       -8.58054661e+00, -6.65951585e+00, -6.05518584e+00, -6.55649167e+00,\n",
              "       -8.28050095e+00, -1.20695021e+01, -2.23595574e+01, -1.98749706e+01,\n",
              "       -1.19663756e+01, -9.04352581e+00, -8.03801266e+00, -8.29117317e+00,\n",
              "       -9.69816408e+00, -1.21821748e+01, -1.36640669e+01, -1.10784933e+01,\n",
              "       -7.96270192e+00, -5.95350093e+00, -4.86153621e+00, -4.40386895e+00,\n",
              "       -4.48430631e+00, -5.00293099e+00, -5.85297484e+00, -6.52738978e+00,\n",
              "       -6.28249088e+00, -5.17124185e+00, -3.94537011e+00, -3.03896530e+00,\n",
              "       -2.53971185e+00, -2.41439322e+00, -2.61401168e+00, -3.13283790e+00,\n",
              "       -3.88377254e+00, -4.56359500e+00, -4.66172866e+00, -4.03558503e+00,\n",
              "       -3.16267606e+00, -2.45450161e+00, -2.03442410e+00, -1.90399259e+00,\n",
              "       -2.07000376e+00, -2.53997006e+00, -3.25235034e+00, -4.02779747e+00,\n",
              "       -4.44182021e+00, -4.20425005e+00, -3.50287173e+00, -2.77051966e+00,\n",
              "       -2.24781879e+00, -2.01408994e+00, -2.09701855e+00, -2.49529936e+00,\n",
              "       -3.19153774e+00, -4.03232047e+00, -4.59826934e+00, -4.43315233e+00,\n",
              "       -3.68515000e+00, -2.88668247e+00, -2.33560440e+00, -2.14938823e+00,\n",
              "       -2.32351901e+00, -2.92554978e+00, -4.00601910e+00, -5.44326810e+00,\n",
              "       -6.56870177e+00, -6.37405326e+00, -5.24027542e+00, -4.18230540e+00,\n",
              "       -3.61867195e+00, -3.65680147e+00, -4.37845567e+00, -5.98041841e+00,\n",
              "       -8.87677380e+00, -1.39745334e+01, -2.37136541e+01, -2.42036325e+01,\n",
              "       -2.13014038e+01, -2.27618130e+01, -1.69293933e+01, -1.06166931e+01,\n",
              "       -6.83349755e+00, -4.68225293e+00, -3.64924255e+00, -3.51289606e+00,\n",
              "       -4.25938425e+00, -6.05385156e+00, -8.69418515e+00, -9.50241116e+00,\n",
              "       -7.01635923e+00, -4.60988560e+00, -3.14831024e+00, -2.47500977e+00,\n",
              "       -2.43949739e+00, -3.04052025e+00, -4.39088073e+00, -6.81714148e+00,\n",
              "       -1.09272522e+01, -1.60764514e+01, -1.28553946e+01, -8.57684017e+00,\n",
              "       -6.07025789e+00, -4.68047903e+00, -4.02618137e+00, -3.94150687e+00,\n",
              "       -4.43848177e+00, -5.56974360e+00, -7.64153099e+00, -1.13817363e+01,\n",
              "       -1.94358144e+01, -2.37627612e+01, -1.29581725e+01, -8.77992384e+00,\n",
              "       -6.47042558e+00, -5.18145058e+00, -4.58417265e+00, -4.52040721e+00,\n",
              "       -4.99804809e+00, -6.09157369e+00, -8.02070530e+00, -1.10047732e+01,\n",
              "       -1.47548056e+01, -1.59766948e+01, -1.30758507e+01, -1.00777390e+01,\n",
              "       -7.82141010e+00, -6.07018575e+00, -4.77693962e+00, -3.95204615e+00,\n",
              "       -3.66446121e+00, -4.01030401e+00, -5.12272105e+00, -7.40753431e+00,\n",
              "       -1.20371118e+01, -2.07579228e+01, -1.18620262e+01, -6.25779414e+00,\n",
              "       -3.21845070e+00, -1.47474523e+00, -5.15388998e-01, -1.71115042e-01,\n",
              "       -4.26860046e-01, -1.37573338e+00, -3.24526525e+00, -6.08036403e+00,\n",
              "       -7.62783613e+00, -4.98969231e+00, -2.05348511e+00, -1.57619268e-01,\n",
              "        9.01773796e-01,  1.37827719e+00,  1.38849058e+00,  9.37195339e-01,\n",
              "       -1.85851110e-02, -1.42216439e+00, -2.65744895e+00, -2.49913749e+00,\n",
              "       -1.19140103e+00,  1.30475321e-01,  1.02907449e+00,  1.48007205e+00,\n",
              "        1.51322498e+00,  1.08865360e+00,  1.36915742e-01, -1.35030573e+00,\n",
              "       -2.90682265e+00, -3.18367708e+00, -1.90294724e+00, -3.68145158e-01,\n",
              "        7.44300538e-01,  1.33373673e+00,  1.44871620e+00,  1.09497842e+00,\n",
              "        2.15205002e-01, -1.29911704e+00, -3.51855674e+00, -5.93233679e+00,\n",
              "       -6.53793624e+00, -4.93676431e+00, -3.18662576e+00, -2.06340120e+00,\n",
              "       -1.57146786e+00, -1.68614664e+00, -2.40465902e+00, -3.74835633e+00,\n",
              "       -5.59039512e+00])"
            ]
          },
          "metadata": {},
          "execution_count": 68
        }
      ]
    },
    {
      "cell_type": "code",
      "source": [
        "result[0]"
      ],
      "metadata": {
        "colab": {
          "base_uri": "https://localhost:8080/"
        },
        "id": "pncqRxA_bPUl",
        "outputId": "de31cf7e-e6b2-42f5-f904-49721913415d"
      },
      "execution_count": 69,
      "outputs": [
        {
          "output_type": "execute_result",
          "data": {
            "text/plain": [
              "-1.8370398959999998"
            ]
          },
          "metadata": {},
          "execution_count": 69
        }
      ]
    },
    {
      "cell_type": "code",
      "source": [],
      "metadata": {
        "id": "FeevaarahKCE"
      },
      "execution_count": null,
      "outputs": []
    }
  ]
}